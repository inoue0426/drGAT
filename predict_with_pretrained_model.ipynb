{
 "cells": [
  {
   "cell_type": "code",
   "execution_count": 1,
   "id": "7a887f67-726b-41ab-87d1-9bb30a6e9747",
   "metadata": {},
   "outputs": [],
   "source": [
    "import argparse\n",
    "import os\n",
    "import sys\n",
    "import warnings\n",
    "\n",
    "warnings.filterwarnings(\"ignore\", category=FutureWarning)\n",
    "\n",
    "import pandas as pd\n",
    "import torch\n",
    "from sklearn.model_selection import KFold\n",
    "from tqdm import tqdm\n",
    "\n",
    "device = torch.device(\"cuda\" if torch.cuda.is_available() else \"cpu\")\n",
    "\n",
    "current_dir = os.getcwd()\n",
    "parent_dir = os.path.abspath(os.path.join(current_dir, \"..\"))\n",
    "sys.path.append(parent_dir)"
   ]
  },
  {
   "cell_type": "code",
   "execution_count": 2,
   "id": "6538a102-2ce8-4970-ae99-734ce0c4aee5",
   "metadata": {},
   "outputs": [
    {
     "name": "stderr",
     "output_type": "stream",
     "text": [
      "/Users/inouey2/code/drGAT/.venv/lib/python3.10/site-packages/pubchempy.py:563: SyntaxWarning: \"is not\" with a literal. Did you mean \"!=\"?\n",
      "  if self.charge is not 0:\n"
     ]
    }
   ],
   "source": [
    "%load_ext autoreload\n",
    "%autoreload 2\n",
    "\n",
    "from drGT import drGT\n",
    "from drGT.load_data import load_data\n",
    "from drGT.metrics import evaluate_predictions\n",
    "from drGT.myutils import get_all_edges_and_labels, get_model_params\n",
    "from drGT.sampler import BalancedSampler"
   ]
  },
  {
   "cell_type": "code",
   "execution_count": 3,
   "id": "c5bf0c1e-c06d-4d40-8a71-7bd0e86381be",
   "metadata": {},
   "outputs": [],
   "source": [
    "method = \"Transformer\"\n",
    "data = \"nci\"\n",
    "task = \"test1\"\n",
    "params = get_model_params(task, data, method)"
   ]
  },
  {
   "cell_type": "code",
   "execution_count": 4,
   "id": "249ef4da-eb5f-41a1-8b17-5748352a576b",
   "metadata": {
    "scrolled": true
   },
   "outputs": [
    {
     "name": "stdout",
     "output_type": "stream",
     "text": [
      "load nci\n",
      "unique drugs\t976\n",
      "unique cells\t59\n",
      "unique drug response\t14312\n",
      "n sensitive\t7050\n",
      "n resistant\t7262\n",
      "AVG Drug binary ratio\t0.485\n",
      "AVG Cell binary ratio\t0.497\n",
      "Over 10 entries (drugs)\t853\n",
      "Over 10 entries (cells)\t59\n",
      "dtis\t572\n",
      "unique drugs\t191\n",
      "unique genes\t242\n",
      "Top 90% variable genes: \t2247\n",
      "Total selected genes: \t2489\n",
      "Done!\n"
     ]
    }
   ],
   "source": [
    "# Load data\n",
    "(\n",
    "    drugAct,\n",
    "    null_mask,\n",
    "    S_d,\n",
    "    S_c,\n",
    "    S_g,\n",
    "    _,\n",
    "    _,\n",
    "    _,\n",
    "    A_cg,\n",
    "    A_dg,\n",
    ") = load_data(data, is_zero_pad=params[\"is_zero_pad\"], verbose=True)\n",
    "\n",
    "# Update parameters\n",
    "params.update(\n",
    "    {\n",
    "        \"n_drug\": S_d.shape[0],\n",
    "        \"n_cell\": S_c.shape[0],\n",
    "        \"n_gene\": S_g.shape[0],\n",
    "        \"gnn_layer\": method,\n",
    "    }\n",
    ")"
   ]
  },
  {
   "cell_type": "code",
   "execution_count": 5,
   "id": "bdc08a61-3778-41af-a2ca-4a66fe32fef5",
   "metadata": {},
   "outputs": [
    {
     "name": "stderr",
     "output_type": "stream",
     "text": [
      "0it [00:00, ?it/s]\n"
     ]
    }
   ],
   "source": [
    "all_edges, all_labels = get_all_edges_and_labels(drugAct, null_mask)\n",
    "kf = KFold(n_splits=5, shuffle=True, random_state=42)\n",
    "\n",
    "for train_idx, test_idx in tqdm(kf.split(all_edges)):\n",
    "    sampler = BalancedSampler(\n",
    "        drugAct,\n",
    "        all_edges,\n",
    "        all_labels,\n",
    "        train_idx,\n",
    "        test_idx,\n",
    "        null_mask,\n",
    "        S_d,\n",
    "        S_c,\n",
    "        S_g,\n",
    "        A_cg,\n",
    "        A_dg,\n",
    "    )\n",
    "\n",
    "    break"
   ]
  },
  {
   "cell_type": "code",
   "execution_count": 6,
   "id": "e5082771-e0d9-4f1d-a589-1c4411f472bf",
   "metadata": {},
   "outputs": [
    {
     "name": "stdout",
     "output_type": "stream",
     "text": [
      "Using device for prediction: cpu\n"
     ]
    }
   ],
   "source": [
    "probs, true_labels, attention = drGT.predict(\"best_model.pt\", sampler, params)"
   ]
  },
  {
   "cell_type": "code",
   "execution_count": 7,
   "id": "580c35ba-9541-4d26-93b8-24ce29580bd2",
   "metadata": {
    "scrolled": true
   },
   "outputs": [
    {
     "data": {
      "text/html": [
       "<div>\n",
       "<style scoped>\n",
       "    .dataframe tbody tr th:only-of-type {\n",
       "        vertical-align: middle;\n",
       "    }\n",
       "\n",
       "    .dataframe tbody tr th {\n",
       "        vertical-align: top;\n",
       "    }\n",
       "\n",
       "    .dataframe thead th {\n",
       "        text-align: right;\n",
       "    }\n",
       "</style>\n",
       "<table border=\"1\" class=\"dataframe\">\n",
       "  <thead>\n",
       "    <tr style=\"text-align: right;\">\n",
       "      <th></th>\n",
       "      <th>Score</th>\n",
       "    </tr>\n",
       "    <tr>\n",
       "      <th>Metric</th>\n",
       "      <th></th>\n",
       "    </tr>\n",
       "  </thead>\n",
       "  <tbody>\n",
       "    <tr>\n",
       "      <th>accuracy</th>\n",
       "      <td>0.8655</td>\n",
       "    </tr>\n",
       "    <tr>\n",
       "      <th>f1_score</th>\n",
       "      <td>0.8580</td>\n",
       "    </tr>\n",
       "    <tr>\n",
       "      <th>auroc</th>\n",
       "      <td>0.9411</td>\n",
       "    </tr>\n",
       "    <tr>\n",
       "      <th>aupr</th>\n",
       "      <td>0.9387</td>\n",
       "    </tr>\n",
       "  </tbody>\n",
       "</table>\n",
       "</div>"
      ],
      "text/plain": [
       "           Score\n",
       "Metric          \n",
       "accuracy  0.8655\n",
       "f1_score  0.8580\n",
       "auroc     0.9411\n",
       "aupr      0.9387"
      ]
     },
     "metadata": {},
     "output_type": "display_data"
    }
   ],
   "source": [
    "evaluate_predictions(true_labels, probs)"
   ]
  },
  {
   "cell_type": "code",
   "execution_count": null,
   "id": "26d33cdd-a3ff-4ef3-937f-1bb33c6e5e58",
   "metadata": {},
   "outputs": [],
   "source": []
  }
 ],
 "metadata": {
  "kernelspec": {
   "display_name": "Python (drGAT)",
   "language": "python",
   "name": "drgat"
  },
  "language_info": {
   "codemirror_mode": {
    "name": "ipython",
    "version": 3
   },
   "file_extension": ".py",
   "mimetype": "text/x-python",
   "name": "python",
   "nbconvert_exporter": "python",
   "pygments_lexer": "ipython3",
   "version": "3.10.16"
  }
 },
 "nbformat": 4,
 "nbformat_minor": 5
}
