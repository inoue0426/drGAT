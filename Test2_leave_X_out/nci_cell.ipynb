{
 "cells": [
  {
   "cell_type": "code",
   "execution_count": 1,
   "id": "328569d6-8275-4487-8599-5dda31c05e5a",
   "metadata": {},
   "outputs": [],
   "source": [
    "import gc\n",
    "import os\n",
    "import sys\n",
    "from pathlib import Path\n",
    "\n",
    "import numpy as np\n",
    "import pandas as pd\n",
    "import torch\n",
    "from sklearn.model_selection import KFold\n",
    "from tqdm import tqdm\n",
    "import optuna"
   ]
  },
  {
   "cell_type": "code",
   "execution_count": 2,
   "id": "38cdeb70-5784-43b7-8b1b-902477c41183",
   "metadata": {},
   "outputs": [
    {
     "name": "stderr",
     "output_type": "stream",
     "text": [
      "/data/inouey2/conda/envs/genex/lib/python3.10/site-packages/torch_geometric/typing.py:54: UserWarning: An issue occurred while importing 'pyg-lib'. Disabling its usage. Stacktrace: /lib64/libm.so.6: version `GLIBC_2.29' not found (required by /gpfs/gsfs12/users/inouey2/conda/envs/genex/lib/python3.10/site-packages/libpyg.so)\n",
      "  warnings.warn(f\"An issue occurred while importing 'pyg-lib'. \"\n",
      "/data/inouey2/conda/envs/genex/lib/python3.10/site-packages/torch_geometric/typing.py:72: UserWarning: An issue occurred while importing 'torch-scatter'. Disabling its usage. Stacktrace: /gpfs/gsfs12/users/inouey2/conda/envs/genex/lib/python3.10/site-packages/torch_scatter/_scatter_cuda.so: undefined symbol: _ZN2at23SavedTensorDefaultHooks11set_tracingEb\n",
      "  warnings.warn(f\"An issue occurred while importing 'torch-scatter'. \"\n",
      "/data/inouey2/conda/envs/genex/lib/python3.10/site-packages/torch_geometric/typing.py:99: UserWarning: An issue occurred while importing 'torch-spline-conv'. Disabling its usage. Stacktrace: /gpfs/gsfs12/users/inouey2/conda/envs/genex/lib/python3.10/site-packages/torch_spline_conv/_basis_cuda.so: undefined symbol: _ZN2at23SavedTensorDefaultHooks11set_tracingEb\n",
      "  warnings.warn(\n",
      "/data/inouey2/conda/envs/genex/lib/python3.10/site-packages/torch_geometric/typing.py:110: UserWarning: An issue occurred while importing 'torch-sparse'. Disabling its usage. Stacktrace: /gpfs/gsfs12/users/inouey2/conda/envs/genex/lib/python3.10/site-packages/torch_sparse/_spmm_cuda.so: undefined symbol: _ZN2at23SavedTensorDefaultHooks11set_tracingEb\n",
      "  warnings.warn(f\"An issue occurred while importing 'torch-sparse'. \"\n"
     ]
    }
   ],
   "source": [
    "%load_ext autoreload\n",
    "%autoreload 2\n",
    "\n",
    "# drGAT パッケージのパスを追加\n",
    "current_dir = os.getcwd()\n",
    "parent_dir = os.path.abspath(os.path.join(current_dir, \"..\"))\n",
    "sys.path.append(parent_dir)\n",
    "\n",
    "device = torch.device(\"cuda\" if torch.cuda.is_available() else \"cpu\")\n",
    "\n",
    "from drGAT import drGAT\n",
    "from drGAT.load_data import load_data\n",
    "from drGAT.metrics import compute_metrics_stats\n",
    "from drGAT.sampler import NewSampler\n",
    "from drGAT.utility import filter_target"
   ]
  },
  {
   "cell_type": "code",
   "execution_count": 3,
   "id": "2d7dcd37-0bba-499b-bf8d-f5992cf96581",
   "metadata": {},
   "outputs": [
    {
     "name": "stdout",
     "output_type": "stream",
     "text": [
      "load nci\n",
      "Done!\n"
     ]
    }
   ],
   "source": [
    "data = \"nci\"\n",
    "method = 'GAT'\n",
    "target_dim = 0  # Cell\n",
    "# target_dim = 1  # Drug\n",
    "(\n",
    "    res,\n",
    "    null_mask,\n",
    "    S_d,\n",
    "    S_c,\n",
    "    S_g,\n",
    "    drug_feature,\n",
    "    gene_norm_gene,\n",
    "    gene_norm_cell,\n",
    "    A_cg,\n",
    "    A_dg,\n",
    ") = load_data(data)\n",
    "cell_sum = np.sum(res, axis=1)\n",
    "drug_sum = np.sum(res, axis=0)"
   ]
  },
  {
   "cell_type": "code",
   "execution_count": 4,
   "id": "0df7753a-5449-4025-8ee5-1a75e630c774",
   "metadata": {},
   "outputs": [],
   "source": [
    "def drGAT_new(\n",
    "    res_mat,\n",
    "    null_mask,\n",
    "    target_dim,\n",
    "    target_index,\n",
    "    S_d,\n",
    "    S_c,\n",
    "    S_g,\n",
    "    A_cg,\n",
    "    A_dg,\n",
    "    params,\n",
    "    device,\n",
    "):\n",
    "    sampler = NewSampler(\n",
    "        res,\n",
    "        null_mask,\n",
    "        target_dim,\n",
    "        target_index,\n",
    "        S_d,\n",
    "        S_c,\n",
    "        S_g,\n",
    "        A_cg,\n",
    "        A_dg,\n",
    "    )\n",
    "\n",
    "    (_, _, _, best_val_labels, best_val_prob, best_metrics, _, _, _) = drGAT.train(\n",
    "        sampler, params=params, device=device, verbose=False\n",
    "    )\n",
    "\n",
    "    return best_val_labels, best_val_prob"
   ]
  },
  {
   "cell_type": "code",
   "execution_count": 5,
   "id": "f534eb60-f12d-4375-a2e2-0bb0712dfd54",
   "metadata": {},
   "outputs": [],
   "source": [
    "def suggest_hyperparams(trial, S_d, S_c, S_g):\n",
    "    hidden1 = trial.suggest_int(\"hidden1\", 256, 512)\n",
    "    hidden2 = trial.suggest_int(\"hidden2\", 64, min(256, hidden1))\n",
    "    hidden3 = trial.suggest_int(\"hidden3\", 32, min(128, hidden2))\n",
    "\n",
    "    final_mlp_layers = trial.suggest_int(\"final_mlp_layers\", 1, 3)\n",
    "\n",
    "    params = {\n",
    "        \"n_drug\": S_d.shape[0],\n",
    "        \"n_cell\": S_c.shape[0],\n",
    "        \"n_gene\": S_g.shape[0],\n",
    "        \"dropout1\": trial.suggest_float(\"dropout1\", 0.1, 0.5, step=0.1),\n",
    "        \"dropout2\": trial.suggest_float(\"dropout2\", 0.1, 0.5, step=0.1),\n",
    "        \"dropout3\": (\n",
    "            trial.suggest_float(\"dropout3\", 0.1, 0.5, step=0.1)\n",
    "            if final_mlp_layers >= 2\n",
    "            else 0.0\n",
    "        ),\n",
    "        \"hidden1\": hidden1,\n",
    "        \"hidden2\": hidden2,\n",
    "        \"hidden3\": hidden3,\n",
    "        \"epochs\": 1,\n",
    "        \"heads\": 1,\n",
    "        # \"epochs\": trial.suggest_int(\"epochs\", 300, 1000, step=100),\n",
    "        # \"heads\": trial.suggest_int(\"heads\", 2, 8),\n",
    "        \"activation\": trial.suggest_categorical(\"activation\", [\"relu\", \"gelu\"]),\n",
    "        \"optimizer\": trial.suggest_categorical(\"optimizer\", [\"Adam\", \"AdamW\"]),\n",
    "        \"lr\": trial.suggest_float(\"lr\", 1e-5, 1e-2, log=True),\n",
    "        \"weight_decay\": trial.suggest_float(\"weight_decay\", 1e-6, 1e-2, log=True),\n",
    "        \"scheduler\": trial.suggest_categorical(\"scheduler\", [None, \"Cosine\"]),\n",
    "        \"norm_type\": trial.suggest_categorical(\n",
    "            \"norm_type\", [\"GraphNorm\", \"BatchNorm\", \"LayerNorm\"]\n",
    "        ),\n",
    "        \"gnn_layer\": method,\n",
    "        \"final_mlp_layers\": final_mlp_layers,\n",
    "        # \"residual\": trial.suggest_categorical(\"residual\", [True, False]),\n",
    "        \"attention_dropout\": trial.suggest_float(\n",
    "            \"attention_dropout\", 0.0, 0.4, step=0.1\n",
    "        ),\n",
    "    }\n",
    "\n",
    "    if params[\"scheduler\"] == \"Cosine\":\n",
    "        min_epoch_div = max(1, params[\"epochs\"] // 5)\n",
    "        max_epoch_div = max(min_epoch_div + 1, params[\"epochs\"] // 2)\n",
    "        params[\"T_max\"] = trial.suggest_int(\n",
    "            \"T_max\", low=min_epoch_div, high=max_epoch_div\n",
    "        )\n",
    "\n",
    "        if params[\"T_max\"] <= 0:\n",
    "            raise optuna.TrialPruned(f\"Invalid T_max: {params['T_max']}\")\n",
    "\n",
    "    return params"
   ]
  },
  {
   "cell_type": "code",
   "execution_count": 6,
   "id": "190ff750-d8ba-4e7e-bf10-aa1ea869ae88",
   "metadata": {},
   "outputs": [],
   "source": [
    "def handle_optuna_errors(e, trial):\n",
    "    msg = str(e)\n",
    "    if \"CUDA out of memory\" in msg:\n",
    "        print(f\"Pruned trial {trial.number}: CUDA OOM\")\n",
    "        with torch.cuda.device(\"cuda\"):\n",
    "            torch.cuda.empty_cache()\n",
    "        gc.collect()\n",
    "        raise optuna.TrialPruned(f\"OOM at trial {trial.number}\")\n",
    "    elif \"Input contains NaN\" in msg:\n",
    "        print(f\"Pruned trial {trial.number}: Input contains NaN\")\n",
    "        raise optuna.TrialPruned(f\"NaN input at trial {trial.number}\")\n",
    "    elif isinstance(e, ZeroDivisionError):\n",
    "        print(f\"Pruned trial {trial.number}: ZeroDivisionError in CosineAnnealingLR\")\n",
    "        raise optuna.TrialPruned(\"ZeroDivisionError in CosineAnnealingLR\")\n",
    "    else:\n",
    "        print(f\"Unexpected error in trial {trial.number}: {msg}\")\n",
    "        raise e"
   ]
  },
  {
   "cell_type": "code",
   "execution_count": 7,
   "id": "db3867d2-e42d-4d34-95e2-a705ea595f64",
   "metadata": {},
   "outputs": [],
   "source": [
    "def objective(trial):\n",
    "    try:\n",
    "        # === Data Load ===\n",
    "        is_zero_pad = trial.suggest_categorical(\"is_zero_pad\", [True, False])\n",
    "        (\n",
    "            drugAct,\n",
    "            null_mask,\n",
    "            S_d,\n",
    "            S_c,\n",
    "            S_g,\n",
    "            drug_feature,\n",
    "            gene_norm_gene,\n",
    "            gene_norm_cell,\n",
    "            A_cg,\n",
    "            A_dg,\n",
    "        ) = load_data(data, is_zero_pad=is_zero_pad)\n",
    "\n",
    "        # === Suggest Hyperparameters ===\n",
    "        params = suggest_hyperparams(trial, S_d, S_c, S_g)\n",
    "\n",
    "        true_datas = pd.DataFrame()\n",
    "        predict_datas = pd.DataFrame()\n",
    "        \n",
    "        samples = res.shape[target_dim]\n",
    "        \n",
    "        passed_targets = []\n",
    "        skipped_targets = []\n",
    "        \n",
    "        for target_index in range(samples):\n",
    "            label_vec = res.iloc[target_index] if target_dim == 0 else res.iloc[:, target_index]\n",
    "            passed, reason, pos, neg, total = filter_target(label_vec)\n",
    "        \n",
    "            if passed:\n",
    "                passed_targets.append(target_index)\n",
    "            else:\n",
    "                skipped_targets.append((target_index, reason, pos, neg, total))\n",
    "        \n",
    "        # --- passしなかったやつを表示 ---\n",
    "        print(f\"\\n🚫 Skipped Targets: {len(skipped_targets)}\")\n",
    "        for idx, reason, pos, neg, total in skipped_targets:\n",
    "            print(f\"Target {idx}: skipped because {reason} (total={total}, pos={pos}, neg={neg})\")\n",
    "        \n",
    "        # --- ここから学習 ---\n",
    "        true_datas = pd.DataFrame()\n",
    "        predict_datas = pd.DataFrame()\n",
    "        \n",
    "        for target_index in tqdm(passed_targets):\n",
    "            true_data, predict_data = drGAT_new(\n",
    "                res_mat=res,\n",
    "                null_mask=null_mask.values,\n",
    "                target_dim=target_dim,\n",
    "                target_index=target_index,\n",
    "                S_d=S_d,\n",
    "                S_c=S_c,\n",
    "                S_g=S_g,\n",
    "                A_cg=A_cg,\n",
    "                A_dg=A_dg,\n",
    "                params=params,\n",
    "                device=device,\n",
    "            )\n",
    "        \n",
    "            true_datas = pd.concat([true_datas, pd.DataFrame(true_data).T], ignore_index=True)\n",
    "            predict_datas = pd.concat([predict_datas, pd.DataFrame(predict_data).T], ignore_index=True)\n",
    "\n",
    "        # === Compute Final Metrics ===\n",
    "        metrics_result = compute_metrics_stats(\n",
    "            trial=trial,\n",
    "            true=true_datas,\n",
    "            pred=predict_datas,\n",
    "            target_metrics=[\"AUROC\", \"AUPR\", \"F1\", \"ACC\"],\n",
    "        )\n",
    "        return tuple(metrics_result[\"target_values\"])\n",
    "\n",
    "    except Exception as e:\n",
    "        handle_optuna_errors(e, trial)"
   ]
  },
  {
   "cell_type": "code",
   "execution_count": 8,
   "id": "ae711899-a1f5-4fa7-8d47-089a3d3e3fa9",
   "metadata": {
    "scrolled": true
   },
   "outputs": [
    {
     "name": "stderr",
     "output_type": "stream",
     "text": [
      "[I 2025-05-12 16:23:01,795] A new study created in RDB with name: GAT\n"
     ]
    },
    {
     "name": "stdout",
     "output_type": "stream",
     "text": [
      "load nci\n",
      "Done!\n",
      "\n",
      "🚫 Skipped Targets: 2\n",
      "Target 15: skipped because low_positive_ratio (total=488, pos=7, neg=481)\n",
      "Target 33: skipped because low_negative_ratio (total=427, pos=419, neg=8)\n"
     ]
    },
    {
     "name": "stderr",
     "output_type": "stream",
     "text": [
      "  0%|          | 0/57 [00:00<?, ?it/s]"
     ]
    },
    {
     "name": "stdout",
     "output_type": "stream",
     "text": [
      "Using device: cuda\n"
     ]
    },
    {
     "name": "stderr",
     "output_type": "stream",
     "text": [
      "/spin1/home/linux/inouey2/drGAT/drGAT/drGAT.py:308: FutureWarning: `torch.cuda.amp.GradScaler(args...)` is deprecated. Please use `torch.amp.GradScaler('cuda', args...)` instead.\n",
      "  scaler = GradScaler() if use_autocast else None\n",
      "  2%|▏         | 1/57 [00:05<05:03,  5.42s/it]"
     ]
    },
    {
     "name": "stdout",
     "output_type": "stream",
     "text": [
      "Best model found at epoch 1\n",
      "Using device: cuda\n"
     ]
    },
    {
     "name": "stderr",
     "output_type": "stream",
     "text": [
      "/spin1/home/linux/inouey2/drGAT/drGAT/drGAT.py:308: FutureWarning: `torch.cuda.amp.GradScaler(args...)` is deprecated. Please use `torch.amp.GradScaler('cuda', args...)` instead.\n",
      "  scaler = GradScaler() if use_autocast else None\n",
      "  4%|▎         | 2/57 [00:06<02:22,  2.60s/it]"
     ]
    },
    {
     "name": "stdout",
     "output_type": "stream",
     "text": [
      "Best model found at epoch 1\n"
     ]
    },
    {
     "name": "stderr",
     "output_type": "stream",
     "text": [
      "/spin1/home/linux/inouey2/drGAT/drGAT/drGAT.py:308: FutureWarning: `torch.cuda.amp.GradScaler(args...)` is deprecated. Please use `torch.amp.GradScaler('cuda', args...)` instead.\n",
      "  scaler = GradScaler() if use_autocast else None\n",
      "  5%|▌         | 3/57 [00:06<01:29,  1.66s/it]"
     ]
    },
    {
     "name": "stdout",
     "output_type": "stream",
     "text": [
      "Using device: cuda\n",
      "Best model found at epoch 1\n"
     ]
    },
    {
     "name": "stderr",
     "output_type": "stream",
     "text": [
      "/spin1/home/linux/inouey2/drGAT/drGAT/drGAT.py:308: FutureWarning: `torch.cuda.amp.GradScaler(args...)` is deprecated. Please use `torch.amp.GradScaler('cuda', args...)` instead.\n",
      "  scaler = GradScaler() if use_autocast else None\n",
      "  7%|▋         | 4/57 [00:07<01:04,  1.21s/it]"
     ]
    },
    {
     "name": "stdout",
     "output_type": "stream",
     "text": [
      "Using device: cuda\n",
      "Best model found at epoch 1\n",
      "Using device: cuda\n"
     ]
    },
    {
     "name": "stderr",
     "output_type": "stream",
     "text": [
      "/spin1/home/linux/inouey2/drGAT/drGAT/drGAT.py:308: FutureWarning: `torch.cuda.amp.GradScaler(args...)` is deprecated. Please use `torch.amp.GradScaler('cuda', args...)` instead.\n",
      "  scaler = GradScaler() if use_autocast else None\n",
      "  9%|▉         | 5/57 [00:07<00:53,  1.03s/it]"
     ]
    },
    {
     "name": "stdout",
     "output_type": "stream",
     "text": [
      "Best model found at epoch 1\n"
     ]
    },
    {
     "name": "stderr",
     "output_type": "stream",
     "text": [
      "/spin1/home/linux/inouey2/drGAT/drGAT/drGAT.py:308: FutureWarning: `torch.cuda.amp.GradScaler(args...)` is deprecated. Please use `torch.amp.GradScaler('cuda', args...)` instead.\n",
      "  scaler = GradScaler() if use_autocast else None\n",
      " 11%|█         | 6/57 [00:08<00:44,  1.16it/s]"
     ]
    },
    {
     "name": "stdout",
     "output_type": "stream",
     "text": [
      "Using device: cuda\n",
      "Best model found at epoch 1\n"
     ]
    },
    {
     "name": "stderr",
     "output_type": "stream",
     "text": [
      "/spin1/home/linux/inouey2/drGAT/drGAT/drGAT.py:308: FutureWarning: `torch.cuda.amp.GradScaler(args...)` is deprecated. Please use `torch.amp.GradScaler('cuda', args...)` instead.\n",
      "  scaler = GradScaler() if use_autocast else None\n",
      " 12%|█▏        | 7/57 [00:08<00:37,  1.32it/s]"
     ]
    },
    {
     "name": "stdout",
     "output_type": "stream",
     "text": [
      "Using device: cuda\n",
      "Best model found at epoch 1\n"
     ]
    },
    {
     "name": "stderr",
     "output_type": "stream",
     "text": [
      "/spin1/home/linux/inouey2/drGAT/drGAT/drGAT.py:308: FutureWarning: `torch.cuda.amp.GradScaler(args...)` is deprecated. Please use `torch.amp.GradScaler('cuda', args...)` instead.\n",
      "  scaler = GradScaler() if use_autocast else None\n",
      " 14%|█▍        | 8/57 [00:09<00:33,  1.46it/s]"
     ]
    },
    {
     "name": "stdout",
     "output_type": "stream",
     "text": [
      "Using device: cuda\n",
      "Best model found at epoch 1\n"
     ]
    },
    {
     "name": "stderr",
     "output_type": "stream",
     "text": [
      "/spin1/home/linux/inouey2/drGAT/drGAT/drGAT.py:308: FutureWarning: `torch.cuda.amp.GradScaler(args...)` is deprecated. Please use `torch.amp.GradScaler('cuda', args...)` instead.\n",
      "  scaler = GradScaler() if use_autocast else None\n",
      " 16%|█▌        | 9/57 [00:09<00:30,  1.57it/s]"
     ]
    },
    {
     "name": "stdout",
     "output_type": "stream",
     "text": [
      "Using device: cuda\n",
      "Best model found at epoch 1\n"
     ]
    },
    {
     "name": "stderr",
     "output_type": "stream",
     "text": [
      "/spin1/home/linux/inouey2/drGAT/drGAT/drGAT.py:308: FutureWarning: `torch.cuda.amp.GradScaler(args...)` is deprecated. Please use `torch.amp.GradScaler('cuda', args...)` instead.\n",
      "  scaler = GradScaler() if use_autocast else None\n",
      " 18%|█▊        | 10/57 [00:10<00:28,  1.64it/s]"
     ]
    },
    {
     "name": "stdout",
     "output_type": "stream",
     "text": [
      "Using device: cuda\n",
      "Best model found at epoch 1\n"
     ]
    },
    {
     "name": "stderr",
     "output_type": "stream",
     "text": [
      "/spin1/home/linux/inouey2/drGAT/drGAT/drGAT.py:308: FutureWarning: `torch.cuda.amp.GradScaler(args...)` is deprecated. Please use `torch.amp.GradScaler('cuda', args...)` instead.\n",
      "  scaler = GradScaler() if use_autocast else None\n",
      " 19%|█▉        | 11/57 [00:11<00:27,  1.70it/s]"
     ]
    },
    {
     "name": "stdout",
     "output_type": "stream",
     "text": [
      "Using device: cuda\n",
      "Best model found at epoch 1\n"
     ]
    },
    {
     "name": "stderr",
     "output_type": "stream",
     "text": [
      "/spin1/home/linux/inouey2/drGAT/drGAT/drGAT.py:308: FutureWarning: `torch.cuda.amp.GradScaler(args...)` is deprecated. Please use `torch.amp.GradScaler('cuda', args...)` instead.\n",
      "  scaler = GradScaler() if use_autocast else None\n",
      " 21%|██        | 12/57 [00:11<00:25,  1.75it/s]"
     ]
    },
    {
     "name": "stdout",
     "output_type": "stream",
     "text": [
      "Using device: cuda\n",
      "Best model found at epoch 1\n"
     ]
    },
    {
     "name": "stderr",
     "output_type": "stream",
     "text": [
      "/spin1/home/linux/inouey2/drGAT/drGAT/drGAT.py:308: FutureWarning: `torch.cuda.amp.GradScaler(args...)` is deprecated. Please use `torch.amp.GradScaler('cuda', args...)` instead.\n",
      "  scaler = GradScaler() if use_autocast else None\n",
      " 23%|██▎       | 13/57 [00:12<00:24,  1.78it/s]"
     ]
    },
    {
     "name": "stdout",
     "output_type": "stream",
     "text": [
      "Using device: cuda\n",
      "Best model found at epoch 1\n"
     ]
    },
    {
     "name": "stderr",
     "output_type": "stream",
     "text": [
      "/spin1/home/linux/inouey2/drGAT/drGAT/drGAT.py:308: FutureWarning: `torch.cuda.amp.GradScaler(args...)` is deprecated. Please use `torch.amp.GradScaler('cuda', args...)` instead.\n",
      "  scaler = GradScaler() if use_autocast else None\n",
      " 25%|██▍       | 14/57 [00:12<00:23,  1.79it/s]"
     ]
    },
    {
     "name": "stdout",
     "output_type": "stream",
     "text": [
      "Using device: cuda\n",
      "Best model found at epoch 1\n"
     ]
    },
    {
     "name": "stderr",
     "output_type": "stream",
     "text": [
      "/spin1/home/linux/inouey2/drGAT/drGAT/drGAT.py:308: FutureWarning: `torch.cuda.amp.GradScaler(args...)` is deprecated. Please use `torch.amp.GradScaler('cuda', args...)` instead.\n",
      "  scaler = GradScaler() if use_autocast else None\n",
      " 26%|██▋       | 15/57 [00:13<00:24,  1.71it/s]"
     ]
    },
    {
     "name": "stdout",
     "output_type": "stream",
     "text": [
      "Using device: cuda\n",
      "Best model found at epoch 1\n"
     ]
    },
    {
     "name": "stderr",
     "output_type": "stream",
     "text": [
      "/spin1/home/linux/inouey2/drGAT/drGAT/drGAT.py:308: FutureWarning: `torch.cuda.amp.GradScaler(args...)` is deprecated. Please use `torch.amp.GradScaler('cuda', args...)` instead.\n",
      "  scaler = GradScaler() if use_autocast else None\n",
      " 28%|██▊       | 16/57 [00:13<00:23,  1.76it/s]"
     ]
    },
    {
     "name": "stdout",
     "output_type": "stream",
     "text": [
      "Using device: cuda\n",
      "Best model found at epoch 1\n"
     ]
    },
    {
     "name": "stderr",
     "output_type": "stream",
     "text": [
      "/spin1/home/linux/inouey2/drGAT/drGAT/drGAT.py:308: FutureWarning: `torch.cuda.amp.GradScaler(args...)` is deprecated. Please use `torch.amp.GradScaler('cuda', args...)` instead.\n",
      "  scaler = GradScaler() if use_autocast else None\n",
      " 30%|██▉       | 17/57 [00:14<00:22,  1.79it/s]"
     ]
    },
    {
     "name": "stdout",
     "output_type": "stream",
     "text": [
      "Using device: cuda\n",
      "Best model found at epoch 1\n"
     ]
    },
    {
     "name": "stderr",
     "output_type": "stream",
     "text": [
      "/spin1/home/linux/inouey2/drGAT/drGAT/drGAT.py:308: FutureWarning: `torch.cuda.amp.GradScaler(args...)` is deprecated. Please use `torch.amp.GradScaler('cuda', args...)` instead.\n",
      "  scaler = GradScaler() if use_autocast else None\n",
      " 32%|███▏      | 18/57 [00:14<00:21,  1.81it/s]"
     ]
    },
    {
     "name": "stdout",
     "output_type": "stream",
     "text": [
      "Using device: cuda\n",
      "Best model found at epoch 1\n"
     ]
    },
    {
     "name": "stderr",
     "output_type": "stream",
     "text": [
      "/spin1/home/linux/inouey2/drGAT/drGAT/drGAT.py:308: FutureWarning: `torch.cuda.amp.GradScaler(args...)` is deprecated. Please use `torch.amp.GradScaler('cuda', args...)` instead.\n",
      "  scaler = GradScaler() if use_autocast else None\n",
      " 33%|███▎      | 19/57 [00:15<00:20,  1.83it/s]"
     ]
    },
    {
     "name": "stdout",
     "output_type": "stream",
     "text": [
      "Using device: cuda\n",
      "Best model found at epoch 1\n"
     ]
    },
    {
     "name": "stderr",
     "output_type": "stream",
     "text": [
      "/spin1/home/linux/inouey2/drGAT/drGAT/drGAT.py:308: FutureWarning: `torch.cuda.amp.GradScaler(args...)` is deprecated. Please use `torch.amp.GradScaler('cuda', args...)` instead.\n",
      "  scaler = GradScaler() if use_autocast else None\n",
      " 35%|███▌      | 20/57 [00:15<00:20,  1.84it/s]"
     ]
    },
    {
     "name": "stdout",
     "output_type": "stream",
     "text": [
      "Using device: cuda\n",
      "Best model found at epoch 1\n"
     ]
    },
    {
     "name": "stderr",
     "output_type": "stream",
     "text": [
      "/spin1/home/linux/inouey2/drGAT/drGAT/drGAT.py:308: FutureWarning: `torch.cuda.amp.GradScaler(args...)` is deprecated. Please use `torch.amp.GradScaler('cuda', args...)` instead.\n",
      "  scaler = GradScaler() if use_autocast else None\n",
      " 37%|███▋      | 21/57 [00:16<00:19,  1.84it/s]"
     ]
    },
    {
     "name": "stdout",
     "output_type": "stream",
     "text": [
      "Using device: cuda\n",
      "Best model found at epoch 1\n"
     ]
    },
    {
     "name": "stderr",
     "output_type": "stream",
     "text": [
      "/spin1/home/linux/inouey2/drGAT/drGAT/drGAT.py:308: FutureWarning: `torch.cuda.amp.GradScaler(args...)` is deprecated. Please use `torch.amp.GradScaler('cuda', args...)` instead.\n",
      "  scaler = GradScaler() if use_autocast else None\n",
      " 39%|███▊      | 22/57 [00:17<00:18,  1.85it/s]"
     ]
    },
    {
     "name": "stdout",
     "output_type": "stream",
     "text": [
      "Using device: cuda\n",
      "Best model found at epoch 1\n"
     ]
    },
    {
     "name": "stderr",
     "output_type": "stream",
     "text": [
      "/spin1/home/linux/inouey2/drGAT/drGAT/drGAT.py:308: FutureWarning: `torch.cuda.amp.GradScaler(args...)` is deprecated. Please use `torch.amp.GradScaler('cuda', args...)` instead.\n",
      "  scaler = GradScaler() if use_autocast else None\n",
      " 40%|████      | 23/57 [00:17<00:18,  1.85it/s]"
     ]
    },
    {
     "name": "stdout",
     "output_type": "stream",
     "text": [
      "Using device: cuda\n",
      "Best model found at epoch 1\n",
      "Using device: cuda\n"
     ]
    },
    {
     "name": "stderr",
     "output_type": "stream",
     "text": [
      "/spin1/home/linux/inouey2/drGAT/drGAT/drGAT.py:308: FutureWarning: `torch.cuda.amp.GradScaler(args...)` is deprecated. Please use `torch.amp.GradScaler('cuda', args...)` instead.\n",
      "  scaler = GradScaler() if use_autocast else None\n",
      " 42%|████▏     | 24/57 [00:18<00:20,  1.61it/s]"
     ]
    },
    {
     "name": "stdout",
     "output_type": "stream",
     "text": [
      "Best model found at epoch 1\n"
     ]
    },
    {
     "name": "stderr",
     "output_type": "stream",
     "text": [
      "/spin1/home/linux/inouey2/drGAT/drGAT/drGAT.py:308: FutureWarning: `torch.cuda.amp.GradScaler(args...)` is deprecated. Please use `torch.amp.GradScaler('cuda', args...)` instead.\n",
      "  scaler = GradScaler() if use_autocast else None\n",
      " 44%|████▍     | 25/57 [00:18<00:19,  1.68it/s]"
     ]
    },
    {
     "name": "stdout",
     "output_type": "stream",
     "text": [
      "Using device: cuda\n",
      "Best model found at epoch 1\n"
     ]
    },
    {
     "name": "stderr",
     "output_type": "stream",
     "text": [
      "/spin1/home/linux/inouey2/drGAT/drGAT/drGAT.py:308: FutureWarning: `torch.cuda.amp.GradScaler(args...)` is deprecated. Please use `torch.amp.GradScaler('cuda', args...)` instead.\n",
      "  scaler = GradScaler() if use_autocast else None\n",
      " 46%|████▌     | 26/57 [00:19<00:17,  1.74it/s]"
     ]
    },
    {
     "name": "stdout",
     "output_type": "stream",
     "text": [
      "Using device: cuda\n",
      "Best model found at epoch 1\n"
     ]
    },
    {
     "name": "stderr",
     "output_type": "stream",
     "text": [
      "/spin1/home/linux/inouey2/drGAT/drGAT/drGAT.py:308: FutureWarning: `torch.cuda.amp.GradScaler(args...)` is deprecated. Please use `torch.amp.GradScaler('cuda', args...)` instead.\n",
      "  scaler = GradScaler() if use_autocast else None\n",
      " 47%|████▋     | 27/57 [00:20<00:16,  1.78it/s]"
     ]
    },
    {
     "name": "stdout",
     "output_type": "stream",
     "text": [
      "Using device: cuda\n",
      "Best model found at epoch 1\n"
     ]
    },
    {
     "name": "stderr",
     "output_type": "stream",
     "text": [
      "/spin1/home/linux/inouey2/drGAT/drGAT/drGAT.py:308: FutureWarning: `torch.cuda.amp.GradScaler(args...)` is deprecated. Please use `torch.amp.GradScaler('cuda', args...)` instead.\n",
      "  scaler = GradScaler() if use_autocast else None\n",
      " 49%|████▉     | 28/57 [00:20<00:16,  1.80it/s]"
     ]
    },
    {
     "name": "stdout",
     "output_type": "stream",
     "text": [
      "Using device: cuda\n",
      "Best model found at epoch 1\n"
     ]
    },
    {
     "name": "stderr",
     "output_type": "stream",
     "text": [
      "/spin1/home/linux/inouey2/drGAT/drGAT/drGAT.py:308: FutureWarning: `torch.cuda.amp.GradScaler(args...)` is deprecated. Please use `torch.amp.GradScaler('cuda', args...)` instead.\n",
      "  scaler = GradScaler() if use_autocast else None\n",
      " 51%|█████     | 29/57 [00:21<00:15,  1.82it/s]"
     ]
    },
    {
     "name": "stdout",
     "output_type": "stream",
     "text": [
      "Using device: cuda\n",
      "Best model found at epoch 1\n"
     ]
    },
    {
     "name": "stderr",
     "output_type": "stream",
     "text": [
      "/spin1/home/linux/inouey2/drGAT/drGAT/drGAT.py:308: FutureWarning: `torch.cuda.amp.GradScaler(args...)` is deprecated. Please use `torch.amp.GradScaler('cuda', args...)` instead.\n",
      "  scaler = GradScaler() if use_autocast else None\n",
      " 53%|█████▎    | 30/57 [00:21<00:14,  1.84it/s]"
     ]
    },
    {
     "name": "stdout",
     "output_type": "stream",
     "text": [
      "Using device: cuda\n",
      "Best model found at epoch 1\n"
     ]
    },
    {
     "name": "stderr",
     "output_type": "stream",
     "text": [
      "/spin1/home/linux/inouey2/drGAT/drGAT/drGAT.py:308: FutureWarning: `torch.cuda.amp.GradScaler(args...)` is deprecated. Please use `torch.amp.GradScaler('cuda', args...)` instead.\n",
      "  scaler = GradScaler() if use_autocast else None\n",
      " 54%|█████▍    | 31/57 [00:22<00:14,  1.85it/s]"
     ]
    },
    {
     "name": "stdout",
     "output_type": "stream",
     "text": [
      "Using device: cuda\n",
      "Best model found at epoch 1\n"
     ]
    },
    {
     "name": "stderr",
     "output_type": "stream",
     "text": [
      "/spin1/home/linux/inouey2/drGAT/drGAT/drGAT.py:308: FutureWarning: `torch.cuda.amp.GradScaler(args...)` is deprecated. Please use `torch.amp.GradScaler('cuda', args...)` instead.\n",
      "  scaler = GradScaler() if use_autocast else None\n",
      " 56%|█████▌    | 32/57 [00:22<00:13,  1.85it/s]"
     ]
    },
    {
     "name": "stdout",
     "output_type": "stream",
     "text": [
      "Using device: cuda\n",
      "Best model found at epoch 1\n"
     ]
    },
    {
     "name": "stderr",
     "output_type": "stream",
     "text": [
      "/spin1/home/linux/inouey2/drGAT/drGAT/drGAT.py:308: FutureWarning: `torch.cuda.amp.GradScaler(args...)` is deprecated. Please use `torch.amp.GradScaler('cuda', args...)` instead.\n",
      "  scaler = GradScaler() if use_autocast else None\n",
      " 58%|█████▊    | 33/57 [00:23<00:12,  1.85it/s]"
     ]
    },
    {
     "name": "stdout",
     "output_type": "stream",
     "text": [
      "Using device: cuda\n",
      "Best model found at epoch 1\n"
     ]
    },
    {
     "name": "stderr",
     "output_type": "stream",
     "text": [
      "/spin1/home/linux/inouey2/drGAT/drGAT/drGAT.py:308: FutureWarning: `torch.cuda.amp.GradScaler(args...)` is deprecated. Please use `torch.amp.GradScaler('cuda', args...)` instead.\n",
      "  scaler = GradScaler() if use_autocast else None\n",
      " 60%|█████▉    | 34/57 [00:23<00:13,  1.71it/s]"
     ]
    },
    {
     "name": "stdout",
     "output_type": "stream",
     "text": [
      "Using device: cuda\n",
      "Best model found at epoch 1\n"
     ]
    },
    {
     "name": "stderr",
     "output_type": "stream",
     "text": [
      "/spin1/home/linux/inouey2/drGAT/drGAT/drGAT.py:308: FutureWarning: `torch.cuda.amp.GradScaler(args...)` is deprecated. Please use `torch.amp.GradScaler('cuda', args...)` instead.\n",
      "  scaler = GradScaler() if use_autocast else None\n",
      " 61%|██████▏   | 35/57 [00:24<00:12,  1.76it/s]"
     ]
    },
    {
     "name": "stdout",
     "output_type": "stream",
     "text": [
      "Using device: cuda\n",
      "Best model found at epoch 1\n"
     ]
    },
    {
     "name": "stderr",
     "output_type": "stream",
     "text": [
      "/spin1/home/linux/inouey2/drGAT/drGAT/drGAT.py:308: FutureWarning: `torch.cuda.amp.GradScaler(args...)` is deprecated. Please use `torch.amp.GradScaler('cuda', args...)` instead.\n",
      "  scaler = GradScaler() if use_autocast else None\n",
      " 63%|██████▎   | 36/57 [00:24<00:11,  1.79it/s]"
     ]
    },
    {
     "name": "stdout",
     "output_type": "stream",
     "text": [
      "Using device: cuda\n",
      "Best model found at epoch 1\n"
     ]
    },
    {
     "name": "stderr",
     "output_type": "stream",
     "text": [
      "/spin1/home/linux/inouey2/drGAT/drGAT/drGAT.py:308: FutureWarning: `torch.cuda.amp.GradScaler(args...)` is deprecated. Please use `torch.amp.GradScaler('cuda', args...)` instead.\n",
      "  scaler = GradScaler() if use_autocast else None\n",
      " 65%|██████▍   | 37/57 [00:25<00:11,  1.81it/s]"
     ]
    },
    {
     "name": "stdout",
     "output_type": "stream",
     "text": [
      "Using device: cuda\n",
      "Best model found at epoch 1\n"
     ]
    },
    {
     "name": "stderr",
     "output_type": "stream",
     "text": [
      "/spin1/home/linux/inouey2/drGAT/drGAT/drGAT.py:308: FutureWarning: `torch.cuda.amp.GradScaler(args...)` is deprecated. Please use `torch.amp.GradScaler('cuda', args...)` instead.\n",
      "  scaler = GradScaler() if use_autocast else None\n",
      " 67%|██████▋   | 38/57 [00:26<00:10,  1.83it/s]"
     ]
    },
    {
     "name": "stdout",
     "output_type": "stream",
     "text": [
      "Using device: cuda\n",
      "Best model found at epoch 1\n"
     ]
    },
    {
     "name": "stderr",
     "output_type": "stream",
     "text": [
      "/spin1/home/linux/inouey2/drGAT/drGAT/drGAT.py:308: FutureWarning: `torch.cuda.amp.GradScaler(args...)` is deprecated. Please use `torch.amp.GradScaler('cuda', args...)` instead.\n",
      "  scaler = GradScaler() if use_autocast else None\n",
      " 68%|██████▊   | 39/57 [00:26<00:09,  1.84it/s]"
     ]
    },
    {
     "name": "stdout",
     "output_type": "stream",
     "text": [
      "Using device: cuda\n",
      "Best model found at epoch 1\n"
     ]
    },
    {
     "name": "stderr",
     "output_type": "stream",
     "text": [
      "/spin1/home/linux/inouey2/drGAT/drGAT/drGAT.py:308: FutureWarning: `torch.cuda.amp.GradScaler(args...)` is deprecated. Please use `torch.amp.GradScaler('cuda', args...)` instead.\n",
      "  scaler = GradScaler() if use_autocast else None\n",
      " 70%|███████   | 40/57 [00:27<00:09,  1.85it/s]"
     ]
    },
    {
     "name": "stdout",
     "output_type": "stream",
     "text": [
      "Using device: cuda\n",
      "Best model found at epoch 1\n"
     ]
    },
    {
     "name": "stderr",
     "output_type": "stream",
     "text": [
      "/spin1/home/linux/inouey2/drGAT/drGAT/drGAT.py:308: FutureWarning: `torch.cuda.amp.GradScaler(args...)` is deprecated. Please use `torch.amp.GradScaler('cuda', args...)` instead.\n",
      "  scaler = GradScaler() if use_autocast else None\n",
      " 72%|███████▏  | 41/57 [00:27<00:08,  1.86it/s]"
     ]
    },
    {
     "name": "stdout",
     "output_type": "stream",
     "text": [
      "Using device: cuda\n",
      "Best model found at epoch 1\n"
     ]
    },
    {
     "name": "stderr",
     "output_type": "stream",
     "text": [
      "/spin1/home/linux/inouey2/drGAT/drGAT/drGAT.py:308: FutureWarning: `torch.cuda.amp.GradScaler(args...)` is deprecated. Please use `torch.amp.GradScaler('cuda', args...)` instead.\n",
      "  scaler = GradScaler() if use_autocast else None\n",
      " 74%|███████▎  | 42/57 [00:28<00:08,  1.86it/s]"
     ]
    },
    {
     "name": "stdout",
     "output_type": "stream",
     "text": [
      "Using device: cuda\n",
      "Best model found at epoch 1\n",
      "Using device: cuda\n"
     ]
    },
    {
     "name": "stderr",
     "output_type": "stream",
     "text": [
      "/spin1/home/linux/inouey2/drGAT/drGAT/drGAT.py:308: FutureWarning: `torch.cuda.amp.GradScaler(args...)` is deprecated. Please use `torch.amp.GradScaler('cuda', args...)` instead.\n",
      "  scaler = GradScaler() if use_autocast else None\n",
      " 75%|███████▌  | 43/57 [00:28<00:08,  1.62it/s]"
     ]
    },
    {
     "name": "stdout",
     "output_type": "stream",
     "text": [
      "Best model found at epoch 1\n"
     ]
    },
    {
     "name": "stderr",
     "output_type": "stream",
     "text": [
      "/spin1/home/linux/inouey2/drGAT/drGAT/drGAT.py:308: FutureWarning: `torch.cuda.amp.GradScaler(args...)` is deprecated. Please use `torch.amp.GradScaler('cuda', args...)` instead.\n",
      "  scaler = GradScaler() if use_autocast else None\n",
      " 77%|███████▋  | 44/57 [00:29<00:07,  1.69it/s]"
     ]
    },
    {
     "name": "stdout",
     "output_type": "stream",
     "text": [
      "Using device: cuda\n",
      "Best model found at epoch 1\n"
     ]
    },
    {
     "name": "stderr",
     "output_type": "stream",
     "text": [
      "/spin1/home/linux/inouey2/drGAT/drGAT/drGAT.py:308: FutureWarning: `torch.cuda.amp.GradScaler(args...)` is deprecated. Please use `torch.amp.GradScaler('cuda', args...)` instead.\n",
      "  scaler = GradScaler() if use_autocast else None\n",
      " 79%|███████▉  | 45/57 [00:30<00:06,  1.74it/s]"
     ]
    },
    {
     "name": "stdout",
     "output_type": "stream",
     "text": [
      "Using device: cuda\n",
      "Best model found at epoch 1\n"
     ]
    },
    {
     "name": "stderr",
     "output_type": "stream",
     "text": [
      "/spin1/home/linux/inouey2/drGAT/drGAT/drGAT.py:308: FutureWarning: `torch.cuda.amp.GradScaler(args...)` is deprecated. Please use `torch.amp.GradScaler('cuda', args...)` instead.\n",
      "  scaler = GradScaler() if use_autocast else None\n",
      " 81%|████████  | 46/57 [00:30<00:06,  1.78it/s]"
     ]
    },
    {
     "name": "stdout",
     "output_type": "stream",
     "text": [
      "Using device: cuda\n",
      "Best model found at epoch 1\n"
     ]
    },
    {
     "name": "stderr",
     "output_type": "stream",
     "text": [
      "/spin1/home/linux/inouey2/drGAT/drGAT/drGAT.py:308: FutureWarning: `torch.cuda.amp.GradScaler(args...)` is deprecated. Please use `torch.amp.GradScaler('cuda', args...)` instead.\n",
      "  scaler = GradScaler() if use_autocast else None\n",
      " 82%|████████▏ | 47/57 [00:31<00:05,  1.81it/s]"
     ]
    },
    {
     "name": "stdout",
     "output_type": "stream",
     "text": [
      "Using device: cuda\n",
      "Best model found at epoch 1\n"
     ]
    },
    {
     "name": "stderr",
     "output_type": "stream",
     "text": [
      "/spin1/home/linux/inouey2/drGAT/drGAT/drGAT.py:308: FutureWarning: `torch.cuda.amp.GradScaler(args...)` is deprecated. Please use `torch.amp.GradScaler('cuda', args...)` instead.\n",
      "  scaler = GradScaler() if use_autocast else None\n",
      " 84%|████████▍ | 48/57 [00:31<00:04,  1.82it/s]"
     ]
    },
    {
     "name": "stdout",
     "output_type": "stream",
     "text": [
      "Using device: cuda\n",
      "Best model found at epoch 1\n"
     ]
    },
    {
     "name": "stderr",
     "output_type": "stream",
     "text": [
      "/spin1/home/linux/inouey2/drGAT/drGAT/drGAT.py:308: FutureWarning: `torch.cuda.amp.GradScaler(args...)` is deprecated. Please use `torch.amp.GradScaler('cuda', args...)` instead.\n",
      "  scaler = GradScaler() if use_autocast else None\n",
      " 86%|████████▌ | 49/57 [00:32<00:04,  1.82it/s]"
     ]
    },
    {
     "name": "stdout",
     "output_type": "stream",
     "text": [
      "Using device: cuda\n",
      "Best model found at epoch 1\n"
     ]
    },
    {
     "name": "stderr",
     "output_type": "stream",
     "text": [
      "/spin1/home/linux/inouey2/drGAT/drGAT/drGAT.py:308: FutureWarning: `torch.cuda.amp.GradScaler(args...)` is deprecated. Please use `torch.amp.GradScaler('cuda', args...)` instead.\n",
      "  scaler = GradScaler() if use_autocast else None\n",
      " 88%|████████▊ | 50/57 [00:32<00:03,  1.82it/s]"
     ]
    },
    {
     "name": "stdout",
     "output_type": "stream",
     "text": [
      "Using device: cuda\n",
      "Best model found at epoch 1\n"
     ]
    },
    {
     "name": "stderr",
     "output_type": "stream",
     "text": [
      "/spin1/home/linux/inouey2/drGAT/drGAT/drGAT.py:308: FutureWarning: `torch.cuda.amp.GradScaler(args...)` is deprecated. Please use `torch.amp.GradScaler('cuda', args...)` instead.\n",
      "  scaler = GradScaler() if use_autocast else None\n",
      " 89%|████████▉ | 51/57 [00:33<00:03,  1.84it/s]"
     ]
    },
    {
     "name": "stdout",
     "output_type": "stream",
     "text": [
      "Using device: cuda\n",
      "Best model found at epoch 1\n"
     ]
    },
    {
     "name": "stderr",
     "output_type": "stream",
     "text": [
      "/spin1/home/linux/inouey2/drGAT/drGAT/drGAT.py:308: FutureWarning: `torch.cuda.amp.GradScaler(args...)` is deprecated. Please use `torch.amp.GradScaler('cuda', args...)` instead.\n",
      "  scaler = GradScaler() if use_autocast else None\n",
      " 91%|█████████ | 52/57 [00:33<00:02,  1.83it/s]"
     ]
    },
    {
     "name": "stdout",
     "output_type": "stream",
     "text": [
      "Using device: cuda\n",
      "Best model found at epoch 1\n"
     ]
    },
    {
     "name": "stderr",
     "output_type": "stream",
     "text": [
      "/spin1/home/linux/inouey2/drGAT/drGAT/drGAT.py:308: FutureWarning: `torch.cuda.amp.GradScaler(args...)` is deprecated. Please use `torch.amp.GradScaler('cuda', args...)` instead.\n",
      "  scaler = GradScaler() if use_autocast else None\n",
      " 93%|█████████▎| 53/57 [00:34<00:02,  1.77it/s]"
     ]
    },
    {
     "name": "stdout",
     "output_type": "stream",
     "text": [
      "Using device: cuda\n",
      "Best model found at epoch 1\n"
     ]
    },
    {
     "name": "stderr",
     "output_type": "stream",
     "text": [
      "/spin1/home/linux/inouey2/drGAT/drGAT/drGAT.py:308: FutureWarning: `torch.cuda.amp.GradScaler(args...)` is deprecated. Please use `torch.amp.GradScaler('cuda', args...)` instead.\n",
      "  scaler = GradScaler() if use_autocast else None\n",
      " 95%|█████████▍| 54/57 [00:34<00:01,  1.80it/s]"
     ]
    },
    {
     "name": "stdout",
     "output_type": "stream",
     "text": [
      "Using device: cuda\n",
      "Best model found at epoch 1\n"
     ]
    },
    {
     "name": "stderr",
     "output_type": "stream",
     "text": [
      "/spin1/home/linux/inouey2/drGAT/drGAT/drGAT.py:308: FutureWarning: `torch.cuda.amp.GradScaler(args...)` is deprecated. Please use `torch.amp.GradScaler('cuda', args...)` instead.\n",
      "  scaler = GradScaler() if use_autocast else None\n",
      " 96%|█████████▋| 55/57 [00:35<00:01,  1.82it/s]"
     ]
    },
    {
     "name": "stdout",
     "output_type": "stream",
     "text": [
      "Using device: cuda\n",
      "Best model found at epoch 1\n"
     ]
    },
    {
     "name": "stderr",
     "output_type": "stream",
     "text": [
      "/spin1/home/linux/inouey2/drGAT/drGAT/drGAT.py:308: FutureWarning: `torch.cuda.amp.GradScaler(args...)` is deprecated. Please use `torch.amp.GradScaler('cuda', args...)` instead.\n",
      "  scaler = GradScaler() if use_autocast else None\n",
      " 98%|█████████▊| 56/57 [00:36<00:00,  1.83it/s]"
     ]
    },
    {
     "name": "stdout",
     "output_type": "stream",
     "text": [
      "Using device: cuda\n",
      "Best model found at epoch 1\n"
     ]
    },
    {
     "name": "stderr",
     "output_type": "stream",
     "text": [
      "/spin1/home/linux/inouey2/drGAT/drGAT/drGAT.py:308: FutureWarning: `torch.cuda.amp.GradScaler(args...)` is deprecated. Please use `torch.amp.GradScaler('cuda', args...)` instead.\n",
      "  scaler = GradScaler() if use_autocast else None\n",
      "100%|██████████| 57/57 [00:36<00:00,  1.56it/s]"
     ]
    },
    {
     "name": "stdout",
     "output_type": "stream",
     "text": [
      "Using device: cuda\n",
      "Best model found at epoch 1\n",
      "0      1\n",
      "1      1\n",
      "2      1\n",
      "3      1\n",
      "4      1\n",
      "      ..\n",
      "191    0\n",
      "192    0\n",
      "193    0\n",
      "194    0\n",
      "195    0\n",
      "Name: 0, Length: 196, dtype: int64\n",
      "0      1.0\n",
      "1      1.0\n",
      "2      1.0\n",
      "3      1.0\n",
      "4      1.0\n",
      "      ... \n",
      "191    0.0\n",
      "192    1.0\n",
      "193    0.0\n",
      "194    0.0\n",
      "195    1.0\n",
      "Name: 0, Length: 196, dtype: float32\n",
      "0      0\n",
      "1      0\n",
      "2      0\n",
      "3      0\n",
      "4      0\n",
      "      ..\n",
      "257    0\n",
      "258    0\n",
      "259    0\n",
      "260    0\n",
      "261    0\n",
      "Name: 1, Length: 262, dtype: int64\n",
      "0      0.0\n",
      "1      0.0\n",
      "2      0.0\n",
      "3      0.0\n",
      "4      0.0\n",
      "      ... \n",
      "257    1.0\n",
      "258    0.0\n",
      "259    1.0\n",
      "260    1.0\n",
      "261    0.0\n",
      "Name: 1, Length: 262, dtype: float32\n",
      "0      0\n",
      "1      0\n",
      "2      0\n",
      "3      0\n",
      "4      0\n",
      "      ..\n",
      "106    0\n",
      "107    0\n",
      "108    0\n",
      "109    0\n",
      "110    0\n",
      "Name: 2, Length: 111, dtype: int64\n",
      "0      1.0\n",
      "1      1.0\n",
      "2      0.0\n",
      "3      1.0\n",
      "4      0.0\n",
      "      ... \n",
      "106    0.0\n",
      "107    1.0\n",
      "108    1.0\n",
      "109    1.0\n",
      "110    0.0\n",
      "Name: 2, Length: 111, dtype: float32\n",
      "0      1\n",
      "1      1\n",
      "2      1\n",
      "3      1\n",
      "4      1\n",
      "      ..\n",
      "277    1\n",
      "278    1\n",
      "279    1\n",
      "280    1\n",
      "281    1\n",
      "Name: 3, Length: 282, dtype: int64\n",
      "0      1.0\n",
      "1      1.0\n",
      "2      1.0\n",
      "3      1.0\n",
      "4      1.0\n",
      "      ... \n",
      "277    1.0\n",
      "278    1.0\n",
      "279    1.0\n",
      "280    1.0\n",
      "281    1.0\n",
      "Name: 3, Length: 282, dtype: float32\n",
      "0      1\n",
      "1      1\n",
      "2      1\n",
      "3      1\n",
      "4      1\n",
      "      ..\n",
      "257    1\n",
      "258    1\n",
      "259    1\n",
      "260    1\n",
      "261    1\n",
      "Name: 4, Length: 262, dtype: int64\n",
      "0      0.0\n",
      "1      0.0\n",
      "2      0.0\n",
      "3      0.0\n",
      "4      0.0\n",
      "      ... \n",
      "257    0.0\n",
      "258    0.0\n",
      "259    0.0\n",
      "260    0.0\n",
      "261    0.0\n",
      "Name: 4, Length: 262, dtype: float32\n",
      "0      0\n",
      "1      0\n",
      "2      0\n",
      "3      0\n",
      "4      0\n",
      "      ..\n",
      "207    0\n",
      "208    0\n",
      "209    0\n",
      "210    0\n",
      "211    0\n",
      "Name: 5, Length: 212, dtype: int64\n",
      "0      1.0\n",
      "1      0.0\n",
      "2      0.0\n",
      "3      0.0\n",
      "4      0.0\n",
      "      ... \n",
      "207    1.0\n",
      "208    1.0\n",
      "209    1.0\n",
      "210    1.0\n",
      "211    0.0\n",
      "Name: 5, Length: 212, dtype: float32\n"
     ]
    },
    {
     "name": "stderr",
     "output_type": "stream",
     "text": [
      "\n"
     ]
    },
    {
     "name": "stdout",
     "output_type": "stream",
     "text": [
      "0      0\n",
      "1      0\n",
      "2      0\n",
      "3      0\n",
      "4      0\n",
      "      ..\n",
      "360    0\n",
      "361    0\n",
      "362    0\n",
      "363    0\n",
      "364    0\n",
      "Name: 6, Length: 365, dtype: int64\n",
      "0      1.0\n",
      "1      1.0\n",
      "2      1.0\n",
      "3      0.0\n",
      "4      1.0\n",
      "      ... \n",
      "360    1.0\n",
      "361    0.0\n",
      "362    1.0\n",
      "363    1.0\n",
      "364    0.0\n",
      "Name: 6, Length: 365, dtype: float32\n",
      "0      1\n",
      "1      1\n",
      "2      1\n",
      "3      1\n",
      "4      1\n",
      "      ..\n",
      "250    1\n",
      "251    1\n",
      "252    1\n",
      "253    1\n",
      "254    1\n",
      "Name: 7, Length: 255, dtype: int64\n",
      "0      1.0\n",
      "1      1.0\n",
      "2      1.0\n",
      "3      1.0\n",
      "4      0.0\n",
      "      ... \n",
      "250    1.0\n",
      "251    1.0\n",
      "252    1.0\n",
      "253    1.0\n",
      "254    1.0\n",
      "Name: 7, Length: 255, dtype: float32\n",
      "0      0\n",
      "1      0\n",
      "2      0\n",
      "3      0\n",
      "4      0\n",
      "      ..\n",
      "112    0\n",
      "113    0\n",
      "114    0\n",
      "115    0\n",
      "116    0\n",
      "Name: 8, Length: 117, dtype: int64\n",
      "0      0.0\n",
      "1      1.0\n",
      "2      1.0\n",
      "3      1.0\n",
      "4      0.0\n",
      "      ... \n",
      "112    1.0\n",
      "113    1.0\n",
      "114    1.0\n",
      "115    1.0\n",
      "116    0.0\n",
      "Name: 8, Length: 117, dtype: float32\n",
      "0      1\n",
      "1      1\n",
      "2      1\n",
      "3      1\n",
      "4      1\n",
      "      ..\n",
      "292    1\n",
      "293    1\n",
      "294    1\n",
      "295    1\n",
      "296    1\n",
      "Name: 9, Length: 297, dtype: int64\n",
      "0      0.0\n",
      "1      0.0\n",
      "2      0.0\n",
      "3      0.0\n",
      "4      0.0\n",
      "      ... \n",
      "292    0.0\n",
      "293    0.0\n",
      "294    0.0\n",
      "295    1.0\n",
      "296    0.0\n",
      "Name: 9, Length: 297, dtype: float32\n",
      "0      0\n",
      "1      0\n",
      "2      0\n",
      "3      0\n",
      "4      0\n",
      "      ..\n",
      "124    0\n",
      "125    0\n",
      "126    0\n",
      "127    0\n",
      "128    0\n",
      "Name: 10, Length: 129, dtype: int64\n",
      "0      0.0\n",
      "1      0.0\n",
      "2      1.0\n",
      "3      0.0\n",
      "4      0.0\n",
      "      ... \n",
      "124    0.0\n",
      "125    0.0\n",
      "126    1.0\n",
      "127    0.0\n",
      "128    0.0\n",
      "Name: 10, Length: 129, dtype: float32\n",
      "0      1\n",
      "1      1\n",
      "2      1\n",
      "3      1\n",
      "4      1\n",
      "      ..\n",
      "361    1\n",
      "362    1\n",
      "363    1\n",
      "364    1\n",
      "365    1\n",
      "Name: 11, Length: 366, dtype: int64\n",
      "0      1.0\n",
      "1      1.0\n",
      "2      1.0\n",
      "3      1.0\n",
      "4      1.0\n",
      "      ... \n",
      "361    1.0\n",
      "362    1.0\n",
      "363    1.0\n",
      "364    1.0\n",
      "365    1.0\n",
      "Name: 11, Length: 366, dtype: float32\n",
      "0      1\n",
      "1      1\n",
      "2      1\n",
      "3      1\n",
      "4      1\n",
      "      ..\n",
      "193    1\n",
      "194    1\n",
      "195    1\n",
      "196    1\n",
      "197    1\n",
      "Name: 12, Length: 198, dtype: int64\n",
      "0      1.0\n",
      "1      1.0\n",
      "2      1.0\n",
      "3      1.0\n",
      "4      1.0\n",
      "      ... \n",
      "193    0.0\n",
      "194    1.0\n",
      "195    1.0\n",
      "196    1.0\n",
      "197    1.0\n",
      "Name: 12, Length: 198, dtype: float32\n",
      "0      0\n",
      "1      0\n",
      "2      0\n",
      "3      0\n",
      "4      0\n",
      "      ..\n",
      "331    0\n",
      "332    0\n",
      "333    0\n",
      "334    0\n",
      "335    0\n",
      "Name: 13, Length: 336, dtype: int64\n",
      "0      1.0\n",
      "1      1.0\n",
      "2      1.0\n",
      "3      1.0\n",
      "4      1.0\n",
      "      ... \n",
      "331    0.0\n",
      "332    0.0\n",
      "333    0.0\n",
      "334    0.0\n",
      "335    1.0\n",
      "Name: 13, Length: 336, dtype: float32\n",
      "0      1\n",
      "1      1\n",
      "2      1\n",
      "3      1\n",
      "4      1\n",
      "      ..\n",
      "110    1\n",
      "111    1\n",
      "112    1\n",
      "113    1\n",
      "114    1\n",
      "Name: 14, Length: 115, dtype: int64\n",
      "0      0.0\n",
      "1      0.0\n",
      "2      0.0\n",
      "3      0.0\n",
      "4      0.0\n",
      "      ... \n",
      "110    0.0\n",
      "111    0.0\n",
      "112    0.0\n",
      "113    0.0\n",
      "114    0.0\n",
      "Name: 14, Length: 115, dtype: float32\n",
      "0      0\n",
      "1      0\n",
      "2      0\n",
      "3      0\n",
      "4      0\n",
      "      ..\n",
      "389    0\n",
      "390    0\n",
      "391    0\n",
      "392    0\n",
      "393    0\n",
      "Name: 15, Length: 394, dtype: int64\n",
      "0      0.0\n",
      "1      0.0\n",
      "2      0.0\n",
      "3      0.0\n",
      "4      0.0\n",
      "      ... \n",
      "389    0.0\n",
      "390    0.0\n",
      "391    0.0\n",
      "392    1.0\n",
      "393    0.0\n",
      "Name: 15, Length: 394, dtype: float32\n",
      "0      0\n",
      "1      0\n",
      "2      0\n",
      "3      0\n",
      "4      0\n",
      "      ..\n",
      "273    0\n",
      "274    0\n",
      "275    0\n",
      "276    0\n",
      "277    0\n",
      "Name: 16, Length: 278, dtype: int64\n",
      "0      1.0\n",
      "1      1.0\n",
      "2      1.0\n",
      "3      1.0\n",
      "4      1.0\n",
      "      ... \n",
      "273    1.0\n",
      "274    1.0\n",
      "275    1.0\n",
      "276    1.0\n",
      "277    1.0\n",
      "Name: 16, Length: 278, dtype: float32\n",
      "0      0\n",
      "1      0\n",
      "2      0\n",
      "3      0\n",
      "4      0\n",
      "      ..\n",
      "199    0\n",
      "200    0\n",
      "201    0\n",
      "202    0\n",
      "203    0\n",
      "Name: 17, Length: 204, dtype: int64\n",
      "0      0.0\n",
      "1      0.0\n",
      "2      0.0\n",
      "3      0.0\n",
      "4      0.0\n",
      "      ... \n",
      "199    1.0\n",
      "200    1.0\n",
      "201    1.0\n",
      "202    1.0\n",
      "203    1.0\n",
      "Name: 17, Length: 204, dtype: float32\n",
      "0      1\n",
      "1      1\n",
      "2      1\n",
      "3      1\n",
      "4      1\n",
      "      ..\n",
      "226    1\n",
      "227    1\n",
      "228    1\n",
      "229    1\n",
      "230    1\n",
      "Name: 18, Length: 231, dtype: int64\n",
      "0      1.0\n",
      "1      1.0\n",
      "2      1.0\n",
      "3      1.0\n",
      "4      0.0\n",
      "      ... \n",
      "226    1.0\n",
      "227    1.0\n",
      "228    1.0\n",
      "229    1.0\n",
      "230    1.0\n",
      "Name: 18, Length: 231, dtype: float32\n",
      "0      0\n",
      "1      0\n",
      "2      0\n",
      "3      0\n",
      "4      0\n",
      "      ..\n",
      "301    0\n",
      "302    0\n",
      "303    0\n",
      "304    0\n",
      "305    0\n",
      "Name: 19, Length: 306, dtype: int64\n",
      "0      1.0\n",
      "1      1.0\n",
      "2      1.0\n",
      "3      1.0\n",
      "4      1.0\n",
      "      ... \n",
      "301    1.0\n",
      "302    1.0\n",
      "303    1.0\n",
      "304    0.0\n",
      "305    1.0\n",
      "Name: 19, Length: 306, dtype: float32\n",
      "0      0\n",
      "1      0\n",
      "2      0\n",
      "3      0\n",
      "4      0\n",
      "      ..\n",
      "370    0\n",
      "371    0\n",
      "372    0\n",
      "373    0\n",
      "374    0\n",
      "Name: 20, Length: 375, dtype: int64\n",
      "0      1.0\n",
      "1      1.0\n",
      "2      1.0\n",
      "3      1.0\n",
      "4      1.0\n",
      "      ... \n",
      "370    1.0\n",
      "371    1.0\n",
      "372    1.0\n",
      "373    1.0\n",
      "374    1.0\n",
      "Name: 20, Length: 375, dtype: float32\n",
      "0      1\n",
      "1      0\n",
      "2      1\n",
      "3      1\n",
      "4      1\n",
      "      ..\n",
      "126    0\n",
      "127    0\n",
      "128    0\n",
      "129    0\n",
      "130    0\n",
      "Name: 21, Length: 131, dtype: int64\n",
      "0      1.0\n",
      "1      1.0\n",
      "2      1.0\n",
      "3      1.0\n",
      "4      1.0\n",
      "      ... \n",
      "126    0.0\n",
      "127    1.0\n",
      "128    1.0\n",
      "129    1.0\n",
      "130    1.0\n",
      "Name: 21, Length: 131, dtype: float32\n",
      "0      0\n",
      "1      1\n",
      "2      0\n",
      "3      0\n",
      "4      0\n",
      "      ..\n",
      "300    1\n",
      "301    1\n",
      "302    1\n",
      "303    1\n",
      "304    1\n",
      "Name: 22, Length: 305, dtype: int64\n",
      "0      0.0\n",
      "1      0.0\n",
      "2      0.0\n",
      "3      0.0\n",
      "4      0.0\n",
      "      ... \n",
      "300    1.0\n",
      "301    1.0\n",
      "302    1.0\n",
      "303    0.0\n",
      "304    0.0\n",
      "Name: 22, Length: 305, dtype: float32\n",
      "0      0\n",
      "1      0\n",
      "2      0\n",
      "3      0\n",
      "4      0\n",
      "      ..\n",
      "404    0\n",
      "405    0\n",
      "406    0\n",
      "407    0\n",
      "408    0\n",
      "Name: 23, Length: 409, dtype: int64\n",
      "0      1.0\n",
      "1      1.0\n",
      "2      1.0\n",
      "3      1.0\n",
      "4      1.0\n",
      "      ... \n",
      "404    1.0\n",
      "405    1.0\n",
      "406    1.0\n",
      "407    1.0\n",
      "408    1.0\n",
      "Name: 23, Length: 409, dtype: float32\n",
      "0      1\n",
      "1      1\n",
      "2      1\n",
      "3      1\n",
      "4      1\n",
      "      ..\n",
      "231    1\n",
      "232    1\n",
      "233    1\n",
      "234    1\n",
      "235    1\n",
      "Name: 24, Length: 236, dtype: int64\n",
      "0      0.0\n",
      "1      0.0\n",
      "2      0.0\n",
      "3      0.0\n",
      "4      1.0\n",
      "      ... \n",
      "231    0.0\n",
      "232    1.0\n",
      "233    0.0\n",
      "234    0.0\n",
      "235    0.0\n",
      "Name: 24, Length: 236, dtype: float32\n",
      "0      1\n",
      "1      1\n",
      "2      1\n",
      "3      1\n",
      "4      1\n",
      "      ..\n",
      "215    1\n",
      "216    1\n",
      "217    1\n",
      "218    1\n",
      "219    1\n",
      "Name: 25, Length: 220, dtype: int64\n",
      "0      1.0\n",
      "1      1.0\n",
      "2      1.0\n",
      "3      0.0\n",
      "4      1.0\n",
      "      ... \n",
      "215    1.0\n",
      "216    1.0\n",
      "217    1.0\n",
      "218    0.0\n",
      "219    1.0\n",
      "Name: 25, Length: 220, dtype: float32\n",
      "0     0\n",
      "1     0\n",
      "2     0\n",
      "3     0\n",
      "4     0\n",
      "5     0\n",
      "6     0\n",
      "7     0\n",
      "8     0\n",
      "9     0\n",
      "10    0\n",
      "11    0\n",
      "12    0\n",
      "13    0\n",
      "14    0\n",
      "15    0\n",
      "16    0\n",
      "17    0\n",
      "18    0\n",
      "19    0\n",
      "20    0\n",
      "21    0\n",
      "22    0\n",
      "23    0\n",
      "24    0\n",
      "25    0\n",
      "26    0\n",
      "27    0\n",
      "28    0\n",
      "29    0\n",
      "30    0\n",
      "31    0\n",
      "32    0\n",
      "33    0\n",
      "34    0\n",
      "35    0\n",
      "36    0\n",
      "37    0\n",
      "38    0\n",
      "39    0\n",
      "40    0\n",
      "41    0\n",
      "42    0\n",
      "43    0\n",
      "44    0\n",
      "45    0\n",
      "46    0\n",
      "47    0\n",
      "Name: 26, dtype: int64\n",
      "0     1.0\n",
      "1     1.0\n",
      "2     0.0\n",
      "3     1.0\n",
      "4     0.0\n",
      "5     1.0\n",
      "6     1.0\n",
      "7     1.0\n",
      "8     1.0\n",
      "9     0.0\n",
      "10    1.0\n",
      "11    1.0\n",
      "12    1.0\n",
      "13    1.0\n",
      "14    1.0\n",
      "15    1.0\n",
      "16    0.0\n",
      "17    1.0\n",
      "18    0.0\n",
      "19    1.0\n",
      "20    1.0\n",
      "21    1.0\n",
      "22    0.0\n",
      "23    0.0\n",
      "24    0.0\n",
      "25    1.0\n",
      "26    1.0\n",
      "27    1.0\n",
      "28    1.0\n",
      "29    1.0\n",
      "30    1.0\n",
      "31    1.0\n",
      "32    1.0\n",
      "33    1.0\n",
      "34    1.0\n",
      "35    1.0\n",
      "36    1.0\n",
      "37    1.0\n",
      "38    1.0\n",
      "39    0.0\n",
      "40    1.0\n",
      "41    1.0\n",
      "42    1.0\n",
      "43    1.0\n",
      "44    1.0\n",
      "45    1.0\n",
      "46    1.0\n",
      "47    1.0\n",
      "Name: 26, dtype: float32\n",
      "0      1\n",
      "1      1\n",
      "2      1\n",
      "3      1\n",
      "4      1\n",
      "      ..\n",
      "313    1\n",
      "314    1\n",
      "315    1\n",
      "316    1\n",
      "317    1\n",
      "Name: 27, Length: 318, dtype: int64\n",
      "0      1.0\n",
      "1      1.0\n",
      "2      1.0\n",
      "3      1.0\n",
      "4      1.0\n",
      "      ... \n",
      "313    1.0\n",
      "314    1.0\n",
      "315    1.0\n",
      "316    0.0\n",
      "317    1.0\n",
      "Name: 27, Length: 318, dtype: float32\n",
      "0      0\n",
      "1      0\n",
      "2      0\n",
      "3      0\n",
      "4      0\n",
      "      ..\n",
      "241    0\n",
      "242    0\n",
      "243    0\n",
      "244    0\n",
      "245    0\n",
      "Name: 28, Length: 246, dtype: int64\n",
      "0      0.0\n",
      "1      0.0\n",
      "2      0.0\n",
      "3      0.0\n",
      "4      0.0\n",
      "      ... \n",
      "241    0.0\n",
      "242    0.0\n",
      "243    0.0\n",
      "244    0.0\n",
      "245    0.0\n",
      "Name: 28, Length: 246, dtype: float32\n",
      "0      1\n",
      "1      1\n",
      "2      1\n",
      "3      1\n",
      "4      1\n",
      "      ..\n",
      "370    1\n",
      "371    1\n",
      "372    1\n",
      "373    1\n",
      "374    1\n",
      "Name: 29, Length: 375, dtype: int64\n",
      "0      0.0\n",
      "1      0.0\n",
      "2      0.0\n",
      "3      0.0\n",
      "4      0.0\n",
      "      ... \n",
      "370    0.0\n",
      "371    0.0\n",
      "372    0.0\n",
      "373    0.0\n",
      "374    0.0\n",
      "Name: 29, Length: 375, dtype: float32\n",
      "0      0\n",
      "1      0\n",
      "2      0\n",
      "3      0\n",
      "4      0\n",
      "      ..\n",
      "120    0\n",
      "121    0\n",
      "122    0\n",
      "123    0\n",
      "124    0\n",
      "Name: 30, Length: 125, dtype: int64\n",
      "0      1.0\n",
      "1      0.0\n",
      "2      0.0\n",
      "3      0.0\n",
      "4      1.0\n",
      "      ... \n",
      "120    0.0\n",
      "121    0.0\n",
      "122    0.0\n",
      "123    0.0\n",
      "124    0.0\n",
      "Name: 30, Length: 125, dtype: float32\n",
      "0      1\n",
      "1      1\n",
      "2      1\n",
      "3      1\n",
      "4      1\n",
      "      ..\n",
      "276    1\n",
      "277    1\n",
      "278    1\n",
      "279    1\n",
      "280    1\n",
      "Name: 31, Length: 281, dtype: int64\n",
      "0      0.0\n",
      "1      0.0\n",
      "2      0.0\n",
      "3      0.0\n",
      "4      1.0\n",
      "      ... \n",
      "276    0.0\n",
      "277    1.0\n",
      "278    0.0\n",
      "279    1.0\n",
      "280    0.0\n",
      "Name: 31, Length: 281, dtype: float32\n",
      "0      0\n",
      "1      0\n",
      "2      0\n",
      "3      0\n",
      "4      0\n",
      "      ..\n",
      "175    0\n",
      "176    0\n",
      "177    0\n",
      "178    0\n",
      "179    0\n",
      "Name: 32, Length: 180, dtype: int64\n",
      "0      1.0\n",
      "1      0.0\n",
      "2      0.0\n",
      "3      0.0\n",
      "4      1.0\n",
      "      ... \n",
      "175    0.0\n",
      "176    0.0\n",
      "177    0.0\n",
      "178    0.0\n",
      "179    0.0\n",
      "Name: 32, Length: 180, dtype: float32\n",
      "0     1\n",
      "1     1\n",
      "2     1\n",
      "3     1\n",
      "4     1\n",
      "     ..\n",
      "95    1\n",
      "96    1\n",
      "97    1\n",
      "98    1\n",
      "99    1\n",
      "Name: 33, Length: 100, dtype: int64\n",
      "0     0.0\n",
      "1     1.0\n",
      "2     1.0\n",
      "3     0.0\n",
      "4     0.0\n",
      "     ... \n",
      "95    1.0\n",
      "96    0.0\n",
      "97    1.0\n",
      "98    0.0\n",
      "99    0.0\n",
      "Name: 33, Length: 100, dtype: float32\n",
      "0      1\n",
      "1      1\n",
      "2      1\n",
      "3      1\n",
      "4      1\n",
      "      ..\n",
      "363    0\n",
      "364    0\n",
      "365    0\n",
      "366    0\n",
      "367    0\n",
      "Name: 34, Length: 368, dtype: int64\n",
      "0      0.0\n",
      "1      0.0\n",
      "2      1.0\n",
      "3      0.0\n",
      "4      0.0\n",
      "      ... \n",
      "363    0.0\n",
      "364    0.0\n",
      "365    0.0\n",
      "366    0.0\n",
      "367    0.0\n",
      "Name: 34, Length: 368, dtype: float32\n",
      "0      0\n",
      "1      0\n",
      "2      0\n",
      "3      1\n",
      "4      0\n",
      "      ..\n",
      "285    1\n",
      "286    1\n",
      "287    1\n",
      "288    1\n",
      "289    1\n",
      "Name: 35, Length: 290, dtype: int64\n",
      "0      0.0\n",
      "1      0.0\n",
      "2      0.0\n",
      "3      0.0\n",
      "4      1.0\n",
      "      ... \n",
      "285    0.0\n",
      "286    1.0\n",
      "287    0.0\n",
      "288    0.0\n",
      "289    0.0\n",
      "Name: 35, Length: 290, dtype: float32\n",
      "0     1\n",
      "1     1\n",
      "2     1\n",
      "3     1\n",
      "4     1\n",
      "     ..\n",
      "85    1\n",
      "86    1\n",
      "87    1\n",
      "88    1\n",
      "89    1\n",
      "Name: 36, Length: 90, dtype: int64\n",
      "0     1.0\n",
      "1     0.0\n",
      "2     0.0\n",
      "3     1.0\n",
      "4     1.0\n",
      "     ... \n",
      "85    0.0\n",
      "86    0.0\n",
      "87    0.0\n",
      "88    0.0\n",
      "89    0.0\n",
      "Name: 36, Length: 90, dtype: float32\n",
      "0      0\n",
      "1      0\n",
      "2      0\n",
      "3      0\n",
      "4      0\n",
      "      ..\n",
      "151    1\n",
      "152    1\n",
      "153    1\n",
      "154    1\n",
      "155    1\n",
      "Name: 37, Length: 156, dtype: int64\n",
      "0      0.0\n",
      "1      0.0\n",
      "2      0.0\n",
      "3      1.0\n",
      "4      1.0\n",
      "      ... \n",
      "151    1.0\n",
      "152    1.0\n",
      "153    1.0\n",
      "154    1.0\n",
      "155    0.0\n",
      "Name: 37, Length: 156, dtype: float32\n",
      "0      1\n",
      "1      1\n",
      "2      1\n",
      "3      1\n",
      "4      1\n",
      "      ..\n",
      "183    1\n",
      "184    1\n",
      "185    1\n",
      "186    1\n",
      "187    1\n",
      "Name: 38, Length: 188, dtype: int64\n",
      "0      0.0\n",
      "1      1.0\n",
      "2      0.0\n",
      "3      0.0\n",
      "4      1.0\n",
      "      ... \n",
      "183    1.0\n",
      "184    1.0\n",
      "185    1.0\n",
      "186    0.0\n",
      "187    1.0\n",
      "Name: 38, Length: 188, dtype: float32\n",
      "0      0\n",
      "1      0\n",
      "2      0\n",
      "3      0\n",
      "4      0\n",
      "      ..\n",
      "146    0\n",
      "147    0\n",
      "148    0\n",
      "149    0\n",
      "150    0\n",
      "Name: 39, Length: 151, dtype: int64\n",
      "0      0.0\n",
      "1      0.0\n",
      "2      0.0\n",
      "3      0.0\n",
      "4      0.0\n",
      "      ... \n",
      "146    1.0\n",
      "147    1.0\n",
      "148    0.0\n",
      "149    0.0\n",
      "150    1.0\n",
      "Name: 39, Length: 151, dtype: float32\n",
      "0     0\n",
      "1     0\n",
      "2     0\n",
      "3     0\n",
      "4     0\n",
      "     ..\n",
      "70    0\n",
      "71    0\n",
      "72    0\n",
      "73    0\n",
      "74    0\n",
      "Name: 40, Length: 75, dtype: int64\n",
      "0     0.0\n",
      "1     0.0\n",
      "2     1.0\n",
      "3     1.0\n",
      "4     1.0\n",
      "     ... \n",
      "70    0.0\n",
      "71    0.0\n",
      "72    0.0\n",
      "73    0.0\n",
      "74    0.0\n",
      "Name: 40, Length: 75, dtype: float32\n",
      "0      0\n",
      "1      0\n",
      "2      0\n",
      "3      0\n",
      "4      0\n",
      "      ..\n",
      "161    0\n",
      "162    0\n",
      "163    0\n",
      "164    0\n",
      "165    0\n",
      "Name: 41, Length: 166, dtype: int64\n",
      "0      1.0\n",
      "1      1.0\n",
      "2      1.0\n",
      "3      1.0\n",
      "4      1.0\n",
      "      ... \n",
      "161    0.0\n",
      "162    1.0\n",
      "163    0.0\n",
      "164    0.0\n",
      "165    0.0\n",
      "Name: 41, Length: 166, dtype: float32\n",
      "0      1\n",
      "1      1\n",
      "2      1\n",
      "3      1\n",
      "4      1\n",
      "      ..\n",
      "195    1\n",
      "196    1\n",
      "197    1\n",
      "198    1\n",
      "199    1\n",
      "Name: 42, Length: 200, dtype: int64\n",
      "0      0.0\n",
      "1      0.0\n",
      "2      0.0\n",
      "3      0.0\n",
      "4      0.0\n",
      "      ... \n",
      "195    0.0\n",
      "196    0.0\n",
      "197    1.0\n",
      "198    0.0\n",
      "199    0.0\n",
      "Name: 42, Length: 200, dtype: float32\n",
      "0      1\n",
      "1      1\n",
      "2      1\n",
      "3      1\n",
      "4      1\n",
      "      ..\n",
      "218    1\n",
      "219    1\n",
      "220    1\n",
      "221    1\n",
      "222    1\n",
      "Name: 43, Length: 223, dtype: int64\n",
      "0      0.0\n",
      "1      0.0\n",
      "2      0.0\n",
      "3      1.0\n",
      "4      0.0\n",
      "      ... \n",
      "218    0.0\n",
      "219    1.0\n",
      "220    1.0\n",
      "221    0.0\n",
      "222    0.0\n",
      "Name: 43, Length: 223, dtype: float32\n",
      "0      0\n",
      "1      0\n",
      "2      0\n",
      "3      0\n",
      "4      0\n",
      "      ..\n",
      "135    0\n",
      "136    0\n",
      "137    0\n",
      "138    0\n",
      "139    0\n",
      "Name: 44, Length: 140, dtype: int64\n",
      "0      1.0\n",
      "1      1.0\n",
      "2      1.0\n",
      "3      1.0\n",
      "4      1.0\n",
      "      ... \n",
      "135    1.0\n",
      "136    1.0\n",
      "137    1.0\n",
      "138    0.0\n",
      "139    0.0\n",
      "Name: 44, Length: 140, dtype: float32\n",
      "0      1\n",
      "1      1\n",
      "2      1\n",
      "3      1\n",
      "4      1\n",
      "      ..\n",
      "255    1\n",
      "256    1\n",
      "257    1\n",
      "258    1\n",
      "259    1\n",
      "Name: 45, Length: 260, dtype: int64\n",
      "0      0.0\n",
      "1      0.0\n",
      "2      1.0\n",
      "3      0.0\n",
      "4      0.0\n",
      "      ... \n",
      "255    0.0\n",
      "256    0.0\n",
      "257    0.0\n",
      "258    1.0\n",
      "259    1.0\n",
      "Name: 45, Length: 260, dtype: float32\n",
      "0      1\n",
      "1      1\n",
      "2      1\n",
      "3      1\n",
      "4      1\n",
      "      ..\n",
      "98     1\n",
      "99     1\n",
      "100    1\n",
      "101    1\n",
      "102    1\n",
      "Name: 46, Length: 103, dtype: int64\n",
      "0      0.0\n",
      "1      0.0\n",
      "2      0.0\n",
      "3      1.0\n",
      "4      0.0\n",
      "      ... \n",
      "98     1.0\n",
      "99     0.0\n",
      "100    1.0\n",
      "101    1.0\n",
      "102    0.0\n",
      "Name: 46, Length: 103, dtype: float32\n",
      "0      1\n",
      "1      1\n",
      "2      1\n",
      "3      0\n",
      "4      1\n",
      "      ..\n",
      "246    1\n",
      "247    1\n",
      "248    1\n",
      "249    1\n",
      "250    1\n",
      "Name: 47, Length: 251, dtype: int64\n",
      "0      0.0\n",
      "1      0.0\n",
      "2      0.0\n",
      "3      0.0\n",
      "4      0.0\n",
      "      ... \n",
      "246    0.0\n",
      "247    0.0\n",
      "248    0.0\n",
      "249    0.0\n",
      "250    0.0\n",
      "Name: 47, Length: 251, dtype: float32\n",
      "0      0\n",
      "1      0\n",
      "2      0\n",
      "3      0\n",
      "4      0\n",
      "      ..\n",
      "272    0\n",
      "273    0\n",
      "274    0\n",
      "275    0\n",
      "276    0\n",
      "Name: 48, Length: 277, dtype: int64\n",
      "0      0.0\n",
      "1      0.0\n",
      "2      0.0\n",
      "3      0.0\n",
      "4      0.0\n",
      "      ... \n",
      "272    0.0\n",
      "273    0.0\n",
      "274    0.0\n",
      "275    1.0\n",
      "276    0.0\n",
      "Name: 48, Length: 277, dtype: float32\n",
      "0      0\n",
      "1      0\n",
      "2      0\n",
      "3      0\n",
      "4      0\n",
      "      ..\n",
      "448    0\n",
      "449    0\n",
      "450    0\n",
      "451    0\n",
      "452    0\n",
      "Name: 49, Length: 453, dtype: int64\n",
      "0      1.0\n",
      "1      1.0\n",
      "2      1.0\n",
      "3      1.0\n",
      "4      1.0\n",
      "      ... \n",
      "448    1.0\n",
      "449    0.0\n",
      "450    1.0\n",
      "451    1.0\n",
      "452    0.0\n",
      "Name: 49, Length: 453, dtype: float32\n",
      "0      0\n",
      "1      0\n",
      "2      0\n",
      "3      0\n",
      "4      0\n",
      "      ..\n",
      "222    0\n",
      "223    0\n",
      "224    0\n",
      "225    0\n",
      "226    0\n",
      "Name: 50, Length: 227, dtype: int64\n",
      "0      1.0\n",
      "1      1.0\n",
      "2      1.0\n",
      "3      1.0\n",
      "4      0.0\n",
      "      ... \n",
      "222    1.0\n",
      "223    1.0\n",
      "224    1.0\n",
      "225    1.0\n",
      "226    1.0\n",
      "Name: 50, Length: 227, dtype: float32\n",
      "0      1\n",
      "1      1\n",
      "2      1\n",
      "3      1\n",
      "4      1\n",
      "      ..\n",
      "291    1\n",
      "292    1\n",
      "293    1\n",
      "294    1\n",
      "295    1\n",
      "Name: 51, Length: 296, dtype: int64\n",
      "0      0.0\n",
      "1      0.0\n",
      "2      0.0\n",
      "3      0.0\n",
      "4      0.0\n",
      "      ... \n",
      "291    0.0\n",
      "292    0.0\n",
      "293    1.0\n",
      "294    0.0\n",
      "295    0.0\n",
      "Name: 51, Length: 296, dtype: float32\n",
      "0      0\n",
      "1      0\n",
      "2      0\n",
      "3      0\n",
      "4      0\n",
      "      ..\n",
      "359    0\n",
      "360    0\n",
      "361    0\n",
      "362    0\n",
      "363    0\n",
      "Name: 52, Length: 364, dtype: int64\n",
      "0      0.0\n",
      "1      0.0\n",
      "2      0.0\n",
      "3      0.0\n",
      "4      0.0\n",
      "      ... \n",
      "359    0.0\n",
      "360    1.0\n",
      "361    0.0\n",
      "362    0.0\n",
      "363    0.0\n",
      "Name: 52, Length: 364, dtype: float32\n",
      "0      0\n",
      "1      0\n",
      "2      0\n",
      "3      0\n",
      "4      0\n",
      "      ..\n",
      "162    0\n",
      "163    0\n",
      "164    0\n",
      "165    0\n",
      "166    0\n",
      "Name: 53, Length: 167, dtype: int64\n",
      "0      1.0\n",
      "1      0.0\n",
      "2      1.0\n",
      "3      0.0\n",
      "4      1.0\n",
      "      ... \n",
      "162    1.0\n",
      "163    0.0\n",
      "164    1.0\n",
      "165    0.0\n",
      "166    1.0\n",
      "Name: 53, Length: 167, dtype: float32\n",
      "0      0\n",
      "1      0\n",
      "2      0\n",
      "3      0\n",
      "4      0\n",
      "      ..\n",
      "279    0\n",
      "280    0\n",
      "281    0\n",
      "282    0\n",
      "283    0\n",
      "Name: 54, Length: 284, dtype: int64\n",
      "0      0.0\n",
      "1      0.0\n",
      "2      0.0\n",
      "3      0.0\n",
      "4      0.0\n",
      "      ... \n",
      "279    0.0\n",
      "280    0.0\n",
      "281    0.0\n",
      "282    0.0\n",
      "283    0.0\n",
      "Name: 54, Length: 284, dtype: float32\n",
      "0      0\n",
      "1      0\n",
      "2      0\n",
      "3      0\n",
      "4      0\n",
      "      ..\n",
      "186    0\n",
      "187    0\n",
      "188    0\n",
      "189    0\n",
      "190    0\n",
      "Name: 55, Length: 191, dtype: int64\n",
      "0      1.0\n",
      "1      0.0\n",
      "2      1.0\n",
      "3      1.0\n",
      "4      1.0\n",
      "      ... \n",
      "186    1.0\n",
      "187    1.0\n",
      "188    1.0\n",
      "189    1.0\n",
      "190    1.0\n",
      "Name: 55, Length: 191, dtype: float32\n",
      "0      1\n",
      "1      1\n",
      "2      1\n",
      "3      1\n",
      "4      1\n",
      "      ..\n",
      "207    1\n",
      "208    1\n",
      "209    1\n",
      "210    1\n",
      "211    1\n",
      "Name: 56, Length: 212, dtype: int64\n",
      "0      0.0\n",
      "1      0.0\n",
      "2      0.0\n",
      "3      0.0\n",
      "4      0.0\n",
      "      ... \n",
      "207    0.0\n",
      "208    0.0\n",
      "209    1.0\n",
      "210    1.0\n",
      "211    1.0\n",
      "Name: 56, Length: 212, dtype: float32\n",
      "ACC_mean: 0.4208\n",
      "ACC_std: 0.3328\n"
     ]
    },
    {
     "name": "stderr",
     "output_type": "stream",
     "text": [
      "[I 2025-05-12 16:23:41,052] Trial 0 finished with values: [0.4989575425511547, 0.5124995447689535, 0.2376580191865269, 0.420838146276449] and parameters: {'is_zero_pad': True, 'hidden1': 389, 'hidden2': 144, 'hidden3': 109, 'final_mlp_layers': 1, 'dropout1': 0.1, 'dropout2': 0.2, 'activation': 'gelu', 'optimizer': 'AdamW', 'lr': 0.00019985300027338093, 'weight_decay': 0.008721496235920872, 'scheduler': None, 'norm_type': 'GraphNorm', 'attention_dropout': 0.1}. \n"
     ]
    },
    {
     "name": "stdout",
     "output_type": "stream",
     "text": [
      "F1_mean: 0.2377\n",
      "F1_std: 0.3333\n",
      "AUROC_mean: 0.4990\n",
      "AUROC_std: 0.0750\n",
      "AUPR_mean: 0.5125\n",
      "AUPR_std: 0.3337\n",
      "load nci\n",
      "Done!\n",
      "\n",
      "🚫 Skipped Targets: 2\n",
      "Target 15: skipped because low_positive_ratio (total=488, pos=7, neg=481)\n",
      "Target 33: skipped because low_negative_ratio (total=427, pos=419, neg=8)\n"
     ]
    },
    {
     "name": "stderr",
     "output_type": "stream",
     "text": [
      "  0%|          | 0/57 [00:00<?, ?it/s]"
     ]
    },
    {
     "name": "stdout",
     "output_type": "stream",
     "text": [
      "Using device: cuda\n"
     ]
    },
    {
     "name": "stderr",
     "output_type": "stream",
     "text": [
      "/spin1/home/linux/inouey2/drGAT/drGAT/drGAT.py:308: FutureWarning: `torch.cuda.amp.GradScaler(args...)` is deprecated. Please use `torch.amp.GradScaler('cuda', args...)` instead.\n",
      "  scaler = GradScaler() if use_autocast else None\n",
      "  2%|▏         | 1/57 [00:00<00:44,  1.26it/s]"
     ]
    },
    {
     "name": "stdout",
     "output_type": "stream",
     "text": [
      "Best model found at epoch 1\n"
     ]
    },
    {
     "name": "stderr",
     "output_type": "stream",
     "text": [
      "/spin1/home/linux/inouey2/drGAT/drGAT/drGAT.py:308: FutureWarning: `torch.cuda.amp.GradScaler(args...)` is deprecated. Please use `torch.amp.GradScaler('cuda', args...)` instead.\n",
      "  scaler = GradScaler() if use_autocast else None\n",
      "  4%|▎         | 2/57 [00:01<00:35,  1.56it/s]"
     ]
    },
    {
     "name": "stdout",
     "output_type": "stream",
     "text": [
      "Using device: cuda\n",
      "Best model found at epoch 1\n",
      "Using device: cuda\n"
     ]
    },
    {
     "name": "stderr",
     "output_type": "stream",
     "text": [
      "/spin1/home/linux/inouey2/drGAT/drGAT/drGAT.py:308: FutureWarning: `torch.cuda.amp.GradScaler(args...)` is deprecated. Please use `torch.amp.GradScaler('cuda', args...)` instead.\n",
      "  scaler = GradScaler() if use_autocast else None\n",
      "  5%|▌         | 3/57 [00:02<00:35,  1.52it/s]"
     ]
    },
    {
     "name": "stdout",
     "output_type": "stream",
     "text": [
      "Best model found at epoch 1\n"
     ]
    },
    {
     "name": "stderr",
     "output_type": "stream",
     "text": [
      "/spin1/home/linux/inouey2/drGAT/drGAT/drGAT.py:308: FutureWarning: `torch.cuda.amp.GradScaler(args...)` is deprecated. Please use `torch.amp.GradScaler('cuda', args...)` instead.\n",
      "  scaler = GradScaler() if use_autocast else None\n",
      "  7%|▋         | 4/57 [00:02<00:32,  1.64it/s]"
     ]
    },
    {
     "name": "stdout",
     "output_type": "stream",
     "text": [
      "Using device: cuda\n",
      "Best model found at epoch 1\n"
     ]
    },
    {
     "name": "stderr",
     "output_type": "stream",
     "text": [
      "/spin1/home/linux/inouey2/drGAT/drGAT/drGAT.py:308: FutureWarning: `torch.cuda.amp.GradScaler(args...)` is deprecated. Please use `torch.amp.GradScaler('cuda', args...)` instead.\n",
      "  scaler = GradScaler() if use_autocast else None\n",
      "  9%|▉         | 5/57 [00:03<00:30,  1.72it/s]"
     ]
    },
    {
     "name": "stdout",
     "output_type": "stream",
     "text": [
      "Using device: cuda\n",
      "Best model found at epoch 1\n"
     ]
    },
    {
     "name": "stderr",
     "output_type": "stream",
     "text": [
      "/spin1/home/linux/inouey2/drGAT/drGAT/drGAT.py:308: FutureWarning: `torch.cuda.amp.GradScaler(args...)` is deprecated. Please use `torch.amp.GradScaler('cuda', args...)` instead.\n",
      "  scaler = GradScaler() if use_autocast else None\n",
      " 11%|█         | 6/57 [00:03<00:28,  1.77it/s]"
     ]
    },
    {
     "name": "stdout",
     "output_type": "stream",
     "text": [
      "Using device: cuda\n",
      "Best model found at epoch 1\n"
     ]
    },
    {
     "name": "stderr",
     "output_type": "stream",
     "text": [
      "/spin1/home/linux/inouey2/drGAT/drGAT/drGAT.py:308: FutureWarning: `torch.cuda.amp.GradScaler(args...)` is deprecated. Please use `torch.amp.GradScaler('cuda', args...)` instead.\n",
      "  scaler = GradScaler() if use_autocast else None\n",
      " 12%|█▏        | 7/57 [00:04<00:27,  1.81it/s]"
     ]
    },
    {
     "name": "stdout",
     "output_type": "stream",
     "text": [
      "Using device: cuda\n",
      "Best model found at epoch 1\n"
     ]
    },
    {
     "name": "stderr",
     "output_type": "stream",
     "text": [
      "/spin1/home/linux/inouey2/drGAT/drGAT/drGAT.py:308: FutureWarning: `torch.cuda.amp.GradScaler(args...)` is deprecated. Please use `torch.amp.GradScaler('cuda', args...)` instead.\n",
      "  scaler = GradScaler() if use_autocast else None\n",
      " 14%|█▍        | 8/57 [00:04<00:26,  1.82it/s]"
     ]
    },
    {
     "name": "stdout",
     "output_type": "stream",
     "text": [
      "Using device: cuda\n",
      "Best model found at epoch 1\n"
     ]
    },
    {
     "name": "stderr",
     "output_type": "stream",
     "text": [
      "/spin1/home/linux/inouey2/drGAT/drGAT/drGAT.py:308: FutureWarning: `torch.cuda.amp.GradScaler(args...)` is deprecated. Please use `torch.amp.GradScaler('cuda', args...)` instead.\n",
      "  scaler = GradScaler() if use_autocast else None\n",
      " 16%|█▌        | 9/57 [00:05<00:26,  1.82it/s]"
     ]
    },
    {
     "name": "stdout",
     "output_type": "stream",
     "text": [
      "Using device: cuda\n",
      "Best model found at epoch 1\n"
     ]
    },
    {
     "name": "stderr",
     "output_type": "stream",
     "text": [
      "/spin1/home/linux/inouey2/drGAT/drGAT/drGAT.py:308: FutureWarning: `torch.cuda.amp.GradScaler(args...)` is deprecated. Please use `torch.amp.GradScaler('cuda', args...)` instead.\n",
      "  scaler = GradScaler() if use_autocast else None\n",
      " 18%|█▊        | 10/57 [00:05<00:26,  1.75it/s]"
     ]
    },
    {
     "name": "stdout",
     "output_type": "stream",
     "text": [
      "Using device: cuda\n",
      "Best model found at epoch 1\n"
     ]
    },
    {
     "name": "stderr",
     "output_type": "stream",
     "text": [
      "/spin1/home/linux/inouey2/drGAT/drGAT/drGAT.py:308: FutureWarning: `torch.cuda.amp.GradScaler(args...)` is deprecated. Please use `torch.amp.GradScaler('cuda', args...)` instead.\n",
      "  scaler = GradScaler() if use_autocast else None\n",
      " 19%|█▉        | 11/57 [00:06<00:25,  1.79it/s]"
     ]
    },
    {
     "name": "stdout",
     "output_type": "stream",
     "text": [
      "Using device: cuda\n",
      "Best model found at epoch 1\n"
     ]
    },
    {
     "name": "stderr",
     "output_type": "stream",
     "text": [
      "/spin1/home/linux/inouey2/drGAT/drGAT/drGAT.py:308: FutureWarning: `torch.cuda.amp.GradScaler(args...)` is deprecated. Please use `torch.amp.GradScaler('cuda', args...)` instead.\n",
      "  scaler = GradScaler() if use_autocast else None\n",
      " 21%|██        | 12/57 [00:06<00:24,  1.81it/s]"
     ]
    },
    {
     "name": "stdout",
     "output_type": "stream",
     "text": [
      "Using device: cuda\n",
      "Best model found at epoch 1\n"
     ]
    },
    {
     "name": "stderr",
     "output_type": "stream",
     "text": [
      "/spin1/home/linux/inouey2/drGAT/drGAT/drGAT.py:308: FutureWarning: `torch.cuda.amp.GradScaler(args...)` is deprecated. Please use `torch.amp.GradScaler('cuda', args...)` instead.\n",
      "  scaler = GradScaler() if use_autocast else None\n",
      " 23%|██▎       | 13/57 [00:07<00:24,  1.83it/s]"
     ]
    },
    {
     "name": "stdout",
     "output_type": "stream",
     "text": [
      "Using device: cuda\n",
      "Best model found at epoch 1\n"
     ]
    },
    {
     "name": "stderr",
     "output_type": "stream",
     "text": [
      "/spin1/home/linux/inouey2/drGAT/drGAT/drGAT.py:308: FutureWarning: `torch.cuda.amp.GradScaler(args...)` is deprecated. Please use `torch.amp.GradScaler('cuda', args...)` instead.\n",
      "  scaler = GradScaler() if use_autocast else None\n",
      " 25%|██▍       | 14/57 [00:07<00:23,  1.84it/s]"
     ]
    },
    {
     "name": "stdout",
     "output_type": "stream",
     "text": [
      "Using device: cuda\n",
      "Best model found at epoch 1\n"
     ]
    },
    {
     "name": "stderr",
     "output_type": "stream",
     "text": [
      "/spin1/home/linux/inouey2/drGAT/drGAT/drGAT.py:308: FutureWarning: `torch.cuda.amp.GradScaler(args...)` is deprecated. Please use `torch.amp.GradScaler('cuda', args...)` instead.\n",
      "  scaler = GradScaler() if use_autocast else None\n",
      " 26%|██▋       | 15/57 [00:08<00:22,  1.85it/s]"
     ]
    },
    {
     "name": "stdout",
     "output_type": "stream",
     "text": [
      "Using device: cuda\n",
      "Best model found at epoch 1\n"
     ]
    },
    {
     "name": "stderr",
     "output_type": "stream",
     "text": [
      "/spin1/home/linux/inouey2/drGAT/drGAT/drGAT.py:308: FutureWarning: `torch.cuda.amp.GradScaler(args...)` is deprecated. Please use `torch.amp.GradScaler('cuda', args...)` instead.\n",
      "  scaler = GradScaler() if use_autocast else None\n",
      " 28%|██▊       | 16/57 [00:09<00:22,  1.86it/s]"
     ]
    },
    {
     "name": "stdout",
     "output_type": "stream",
     "text": [
      "Using device: cuda\n",
      "Best model found at epoch 1\n"
     ]
    },
    {
     "name": "stderr",
     "output_type": "stream",
     "text": [
      "/spin1/home/linux/inouey2/drGAT/drGAT/drGAT.py:308: FutureWarning: `torch.cuda.amp.GradScaler(args...)` is deprecated. Please use `torch.amp.GradScaler('cuda', args...)` instead.\n",
      "  scaler = GradScaler() if use_autocast else None\n",
      " 30%|██▉       | 17/57 [00:09<00:21,  1.86it/s]"
     ]
    },
    {
     "name": "stdout",
     "output_type": "stream",
     "text": [
      "Using device: cuda\n",
      "Best model found at epoch 1\n"
     ]
    },
    {
     "name": "stderr",
     "output_type": "stream",
     "text": [
      "/spin1/home/linux/inouey2/drGAT/drGAT/drGAT.py:308: FutureWarning: `torch.cuda.amp.GradScaler(args...)` is deprecated. Please use `torch.amp.GradScaler('cuda', args...)` instead.\n",
      "  scaler = GradScaler() if use_autocast else None\n",
      " 32%|███▏      | 18/57 [00:10<00:21,  1.85it/s]"
     ]
    },
    {
     "name": "stdout",
     "output_type": "stream",
     "text": [
      "Using device: cuda\n",
      "Best model found at epoch 1\n",
      "Using device: cuda\n"
     ]
    },
    {
     "name": "stderr",
     "output_type": "stream",
     "text": [
      "/spin1/home/linux/inouey2/drGAT/drGAT/drGAT.py:308: FutureWarning: `torch.cuda.amp.GradScaler(args...)` is deprecated. Please use `torch.amp.GradScaler('cuda', args...)` instead.\n",
      "  scaler = GradScaler() if use_autocast else None\n",
      " 33%|███▎      | 19/57 [00:10<00:23,  1.63it/s]"
     ]
    },
    {
     "name": "stdout",
     "output_type": "stream",
     "text": [
      "Best model found at epoch 1\n"
     ]
    },
    {
     "name": "stderr",
     "output_type": "stream",
     "text": [
      "/spin1/home/linux/inouey2/drGAT/drGAT/drGAT.py:308: FutureWarning: `torch.cuda.amp.GradScaler(args...)` is deprecated. Please use `torch.amp.GradScaler('cuda', args...)` instead.\n",
      "  scaler = GradScaler() if use_autocast else None\n",
      " 35%|███▌      | 20/57 [00:11<00:21,  1.69it/s]"
     ]
    },
    {
     "name": "stdout",
     "output_type": "stream",
     "text": [
      "Using device: cuda\n",
      "Best model found at epoch 1\n"
     ]
    },
    {
     "name": "stderr",
     "output_type": "stream",
     "text": [
      "/spin1/home/linux/inouey2/drGAT/drGAT/drGAT.py:308: FutureWarning: `torch.cuda.amp.GradScaler(args...)` is deprecated. Please use `torch.amp.GradScaler('cuda', args...)` instead.\n",
      "  scaler = GradScaler() if use_autocast else None\n",
      " 37%|███▋      | 21/57 [00:11<00:20,  1.75it/s]"
     ]
    },
    {
     "name": "stdout",
     "output_type": "stream",
     "text": [
      "Using device: cuda\n",
      "Best model found at epoch 1\n"
     ]
    },
    {
     "name": "stderr",
     "output_type": "stream",
     "text": [
      "/spin1/home/linux/inouey2/drGAT/drGAT/drGAT.py:308: FutureWarning: `torch.cuda.amp.GradScaler(args...)` is deprecated. Please use `torch.amp.GradScaler('cuda', args...)` instead.\n",
      "  scaler = GradScaler() if use_autocast else None\n",
      " 39%|███▊      | 22/57 [00:12<00:19,  1.78it/s]"
     ]
    },
    {
     "name": "stdout",
     "output_type": "stream",
     "text": [
      "Using device: cuda\n",
      "Best model found at epoch 1\n"
     ]
    },
    {
     "name": "stderr",
     "output_type": "stream",
     "text": [
      "/spin1/home/linux/inouey2/drGAT/drGAT/drGAT.py:308: FutureWarning: `torch.cuda.amp.GradScaler(args...)` is deprecated. Please use `torch.amp.GradScaler('cuda', args...)` instead.\n",
      "  scaler = GradScaler() if use_autocast else None\n",
      " 40%|████      | 23/57 [00:13<00:18,  1.80it/s]"
     ]
    },
    {
     "name": "stdout",
     "output_type": "stream",
     "text": [
      "Using device: cuda\n",
      "Best model found at epoch 1\n"
     ]
    },
    {
     "name": "stderr",
     "output_type": "stream",
     "text": [
      "/spin1/home/linux/inouey2/drGAT/drGAT/drGAT.py:308: FutureWarning: `torch.cuda.amp.GradScaler(args...)` is deprecated. Please use `torch.amp.GradScaler('cuda', args...)` instead.\n",
      "  scaler = GradScaler() if use_autocast else None\n",
      " 42%|████▏     | 24/57 [00:13<00:18,  1.82it/s]"
     ]
    },
    {
     "name": "stdout",
     "output_type": "stream",
     "text": [
      "Using device: cuda\n",
      "Best model found at epoch 1\n"
     ]
    },
    {
     "name": "stderr",
     "output_type": "stream",
     "text": [
      "/spin1/home/linux/inouey2/drGAT/drGAT/drGAT.py:308: FutureWarning: `torch.cuda.amp.GradScaler(args...)` is deprecated. Please use `torch.amp.GradScaler('cuda', args...)` instead.\n",
      "  scaler = GradScaler() if use_autocast else None\n",
      " 44%|████▍     | 25/57 [00:14<00:17,  1.84it/s]"
     ]
    },
    {
     "name": "stdout",
     "output_type": "stream",
     "text": [
      "Using device: cuda\n",
      "Best model found at epoch 1\n"
     ]
    },
    {
     "name": "stderr",
     "output_type": "stream",
     "text": [
      "/spin1/home/linux/inouey2/drGAT/drGAT/drGAT.py:308: FutureWarning: `torch.cuda.amp.GradScaler(args...)` is deprecated. Please use `torch.amp.GradScaler('cuda', args...)` instead.\n",
      "  scaler = GradScaler() if use_autocast else None\n",
      " 46%|████▌     | 26/57 [00:14<00:16,  1.85it/s]"
     ]
    },
    {
     "name": "stdout",
     "output_type": "stream",
     "text": [
      "Using device: cuda\n",
      "Best model found at epoch 1\n"
     ]
    },
    {
     "name": "stderr",
     "output_type": "stream",
     "text": [
      "/spin1/home/linux/inouey2/drGAT/drGAT/drGAT.py:308: FutureWarning: `torch.cuda.amp.GradScaler(args...)` is deprecated. Please use `torch.amp.GradScaler('cuda', args...)` instead.\n",
      "  scaler = GradScaler() if use_autocast else None\n",
      " 47%|████▋     | 27/57 [00:15<00:16,  1.84it/s]"
     ]
    },
    {
     "name": "stdout",
     "output_type": "stream",
     "text": [
      "Using device: cuda\n",
      "Best model found at epoch 1\n"
     ]
    },
    {
     "name": "stderr",
     "output_type": "stream",
     "text": [
      "/spin1/home/linux/inouey2/drGAT/drGAT/drGAT.py:308: FutureWarning: `torch.cuda.amp.GradScaler(args...)` is deprecated. Please use `torch.amp.GradScaler('cuda', args...)` instead.\n",
      "  scaler = GradScaler() if use_autocast else None\n",
      " 49%|████▉     | 28/57 [00:15<00:15,  1.85it/s]"
     ]
    },
    {
     "name": "stdout",
     "output_type": "stream",
     "text": [
      "Using device: cuda\n",
      "Best model found at epoch 1\n"
     ]
    },
    {
     "name": "stderr",
     "output_type": "stream",
     "text": [
      "/spin1/home/linux/inouey2/drGAT/drGAT/drGAT.py:308: FutureWarning: `torch.cuda.amp.GradScaler(args...)` is deprecated. Please use `torch.amp.GradScaler('cuda', args...)` instead.\n",
      "  scaler = GradScaler() if use_autocast else None\n",
      " 51%|█████     | 29/57 [00:16<00:15,  1.78it/s]"
     ]
    },
    {
     "name": "stdout",
     "output_type": "stream",
     "text": [
      "Using device: cuda\n",
      "Best model found at epoch 1\n"
     ]
    },
    {
     "name": "stderr",
     "output_type": "stream",
     "text": [
      " 51%|█████     | 29/57 [00:16<00:16,  1.73it/s]\n",
      "[W 2025-05-12 16:23:59,663] Trial 1 failed with parameters: {'is_zero_pad': True, 'hidden1': 328, 'hidden2': 104, 'hidden3': 70, 'final_mlp_layers': 1, 'dropout1': 0.5, 'dropout2': 0.4, 'activation': 'gelu', 'optimizer': 'Adam', 'lr': 0.005194664958916714, 'weight_decay': 0.005033508995929664, 'scheduler': 'Cosine', 'norm_type': 'GraphNorm', 'attention_dropout': 0.2, 'T_max': 2} because of the following error: KeyboardInterrupt().\n",
      "Traceback (most recent call last):\n",
      "  File \"/data/inouey2/conda/envs/genex/lib/python3.10/site-packages/optuna/study/_optimize.py\", line 196, in _run_trial\n",
      "    value_or_values = func(trial)\n",
      "  File \"/tmp/ipykernel_1790637/2727140603.py\", line 48, in objective\n",
      "    true_data, predict_data = drGAT_new(\n",
      "  File \"/tmp/ipykernel_1790637/2529068810.py\", line 26, in drGAT_new\n",
      "    (_, _, _, best_val_labels, best_val_prob, best_metrics, _, _, _) = drGAT.train(\n",
      "  File \"/spin1/home/linux/inouey2/drGAT/drGAT/drGAT.py\", line 325, in train\n",
      "    tensors = get_data_dict(sampler, device)\n",
      "  File \"/spin1/home/linux/inouey2/drGAT/drGAT/drGAT.py\", line 461, in get_data_dict\n",
      "    \"edge_index\": sampler.edge_index.to(device),\n",
      "KeyboardInterrupt\n",
      "[W 2025-05-12 16:23:59,675] Trial 1 failed with value None.\n"
     ]
    },
    {
     "name": "stdout",
     "output_type": "stream",
     "text": [
      "Using device: cuda\n"
     ]
    },
    {
     "name": "stderr",
     "output_type": "stream",
     "text": [
      "\n",
      "KeyboardInterrupt\n",
      "\n"
     ]
    }
   ],
   "source": [
    "study = optuna.create_study(\n",
    "    directions=[\"maximize\"] * 4,\n",
    "    sampler=optuna.samplers.NSGAIISampler(),\n",
    "    pruner=optuna.pruners.HyperbandPruner(),\n",
    "    storage=f\"sqlite:///{method}_{data}_{'cell' if target_dim == 0 else 'drug'}.sqlite3\",\n",
    "    study_name=method,\n",
    "    load_if_exists=True,\n",
    ")\n",
    "study.optimize(objective, n_trials=1000)"
   ]
  },
  {
   "cell_type": "code",
   "execution_count": 9,
   "id": "6c083ab4-c9d7-45ea-a5c3-be40d9d7cce2",
   "metadata": {
    "scrolled": true
   },
   "outputs": [
    {
     "data": {
      "text/html": [
       "<div>\n",
       "<style scoped>\n",
       "    .dataframe tbody tr th:only-of-type {\n",
       "        vertical-align: middle;\n",
       "    }\n",
       "\n",
       "    .dataframe tbody tr th {\n",
       "        vertical-align: top;\n",
       "    }\n",
       "\n",
       "    .dataframe thead th {\n",
       "        text-align: right;\n",
       "    }\n",
       "</style>\n",
       "<table border=\"1\" class=\"dataframe\">\n",
       "  <thead>\n",
       "    <tr style=\"text-align: right;\">\n",
       "      <th></th>\n",
       "      <th>number</th>\n",
       "      <th>values_0</th>\n",
       "      <th>values_1</th>\n",
       "      <th>values_2</th>\n",
       "      <th>values_3</th>\n",
       "      <th>datetime_start</th>\n",
       "      <th>datetime_complete</th>\n",
       "      <th>duration</th>\n",
       "      <th>params_T_max</th>\n",
       "      <th>params_activation</th>\n",
       "      <th>...</th>\n",
       "      <th>user_attrs_MCC_mean</th>\n",
       "      <th>user_attrs_MCC_std</th>\n",
       "      <th>user_attrs_Precision_mean</th>\n",
       "      <th>user_attrs_Precision_std</th>\n",
       "      <th>user_attrs_Recall_mean</th>\n",
       "      <th>user_attrs_Recall_std</th>\n",
       "      <th>user_attrs_Specificity_mean</th>\n",
       "      <th>user_attrs_Specificity_std</th>\n",
       "      <th>system_attrs_nsga2:generation</th>\n",
       "      <th>state</th>\n",
       "    </tr>\n",
       "  </thead>\n",
       "  <tbody>\n",
       "    <tr>\n",
       "      <th>0</th>\n",
       "      <td>0</td>\n",
       "      <td>0.498958</td>\n",
       "      <td>0.5125</td>\n",
       "      <td>0.237658</td>\n",
       "      <td>0.420838</td>\n",
       "      <td>2025-05-12 16:23:01.808424</td>\n",
       "      <td>2025-05-12 16:23:41.035921</td>\n",
       "      <td>0 days 00:00:39.227497</td>\n",
       "      <td>NaN</td>\n",
       "      <td>gelu</td>\n",
       "      <td>...</td>\n",
       "      <td>-0.00047</td>\n",
       "      <td>0.039242</td>\n",
       "      <td>0.270527</td>\n",
       "      <td>0.36342</td>\n",
       "      <td>0.457522</td>\n",
       "      <td>0.491733</td>\n",
       "      <td>0.542699</td>\n",
       "      <td>0.496536</td>\n",
       "      <td>0</td>\n",
       "      <td>COMPLETE</td>\n",
       "    </tr>\n",
       "    <tr>\n",
       "      <th>1</th>\n",
       "      <td>1</td>\n",
       "      <td>NaN</td>\n",
       "      <td>NaN</td>\n",
       "      <td>NaN</td>\n",
       "      <td>NaN</td>\n",
       "      <td>2025-05-12 16:23:41.067106</td>\n",
       "      <td>2025-05-12 16:23:59.650318</td>\n",
       "      <td>0 days 00:00:18.583212</td>\n",
       "      <td>2.0</td>\n",
       "      <td>gelu</td>\n",
       "      <td>...</td>\n",
       "      <td>NaN</td>\n",
       "      <td>NaN</td>\n",
       "      <td>NaN</td>\n",
       "      <td>NaN</td>\n",
       "      <td>NaN</td>\n",
       "      <td>NaN</td>\n",
       "      <td>NaN</td>\n",
       "      <td>NaN</td>\n",
       "      <td>0</td>\n",
       "      <td>FAIL</td>\n",
       "    </tr>\n",
       "  </tbody>\n",
       "</table>\n",
       "<p>2 rows × 47 columns</p>\n",
       "</div>"
      ],
      "text/plain": [
       "   number  values_0  values_1  values_2  values_3             datetime_start  \\\n",
       "0       0  0.498958    0.5125  0.237658  0.420838 2025-05-12 16:23:01.808424   \n",
       "1       1       NaN       NaN       NaN       NaN 2025-05-12 16:23:41.067106   \n",
       "\n",
       "           datetime_complete               duration  params_T_max  \\\n",
       "0 2025-05-12 16:23:41.035921 0 days 00:00:39.227497           NaN   \n",
       "1 2025-05-12 16:23:59.650318 0 days 00:00:18.583212           2.0   \n",
       "\n",
       "  params_activation  ...  user_attrs_MCC_mean  user_attrs_MCC_std  \\\n",
       "0              gelu  ...             -0.00047            0.039242   \n",
       "1              gelu  ...                  NaN                 NaN   \n",
       "\n",
       "   user_attrs_Precision_mean  user_attrs_Precision_std  \\\n",
       "0                   0.270527                   0.36342   \n",
       "1                        NaN                       NaN   \n",
       "\n",
       "   user_attrs_Recall_mean  user_attrs_Recall_std  user_attrs_Specificity_mean  \\\n",
       "0                0.457522               0.491733                     0.542699   \n",
       "1                     NaN                    NaN                          NaN   \n",
       "\n",
       "   user_attrs_Specificity_std  system_attrs_nsga2:generation     state  \n",
       "0                    0.496536                              0  COMPLETE  \n",
       "1                         NaN                              0      FAIL  \n",
       "\n",
       "[2 rows x 47 columns]"
      ]
     },
     "execution_count": 9,
     "metadata": {},
     "output_type": "execute_result"
    }
   ],
   "source": [
    "study.trials_dataframe()"
   ]
  },
  {
   "cell_type": "code",
   "execution_count": null,
   "id": "7157d8ce-5d4c-4036-bfb5-a9633f056db5",
   "metadata": {
    "scrolled": true
   },
   "outputs": [],
   "source": []
  },
  {
   "cell_type": "code",
   "execution_count": null,
   "id": "fa0c5c76-f0bc-4809-a874-e38e5b7a768c",
   "metadata": {},
   "outputs": [],
   "source": []
  },
  {
   "cell_type": "code",
   "execution_count": null,
   "id": "fbeb63b6-ffbd-49b3-81c4-4e371134a191",
   "metadata": {},
   "outputs": [],
   "source": []
  },
  {
   "cell_type": "code",
   "execution_count": null,
   "id": "2b692687-4511-48d0-9cba-5f4d767208f8",
   "metadata": {},
   "outputs": [],
   "source": []
  },
  {
   "cell_type": "code",
   "execution_count": null,
   "id": "b99252af-08f3-4628-8a1a-e9a92e9afe79",
   "metadata": {},
   "outputs": [],
   "source": []
  },
  {
   "cell_type": "code",
   "execution_count": null,
   "id": "d2225330-cee0-4f64-b3f9-820eda640b4e",
   "metadata": {},
   "outputs": [],
   "source": []
  }
 ],
 "metadata": {
  "kernelspec": {
   "display_name": "genex",
   "language": "python",
   "name": "genex"
  },
  "language_info": {
   "codemirror_mode": {
    "name": "ipython",
    "version": 3
   },
   "file_extension": ".py",
   "mimetype": "text/x-python",
   "name": "python",
   "nbconvert_exporter": "python",
   "pygments_lexer": "ipython3",
   "version": "3.10.14"
  }
 },
 "nbformat": 4,
 "nbformat_minor": 5
}
